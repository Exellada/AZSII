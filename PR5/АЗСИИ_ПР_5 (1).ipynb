{
  "nbformat": 4,
  "nbformat_minor": 0,
  "metadata": {
    "colab": {
      "provenance": [],
      "gpuType": "T4"
    },
    "kernelspec": {
      "name": "python3",
      "display_name": "Python 3"
    },
    "language_info": {
      "name": "python"
    },
    "accelerator": "GPU",
    "widgets": {
      "application/vnd.jupyter.widget-state+json": {
        "3fcf13d0074e4af797eedb5c3a2916c7": {
          "model_module": "@jupyter-widgets/controls",
          "model_name": "HBoxModel",
          "model_module_version": "1.5.0",
          "state": {
            "_dom_classes": [],
            "_model_module": "@jupyter-widgets/controls",
            "_model_module_version": "1.5.0",
            "_model_name": "HBoxModel",
            "_view_count": null,
            "_view_module": "@jupyter-widgets/controls",
            "_view_module_version": "1.5.0",
            "_view_name": "HBoxView",
            "box_style": "",
            "children": [
              "IPY_MODEL_2f60e4ff6a63451998de1a4d3f70245f",
              "IPY_MODEL_b58799dbd19241c096d32cb5aaea9fd9",
              "IPY_MODEL_ea639810d3e9463593c7f53ffee25f12"
            ],
            "layout": "IPY_MODEL_0e458626e099437f806b60ea9538815c"
          }
        },
        "2f60e4ff6a63451998de1a4d3f70245f": {
          "model_module": "@jupyter-widgets/controls",
          "model_name": "HTMLModel",
          "model_module_version": "1.5.0",
          "state": {
            "_dom_classes": [],
            "_model_module": "@jupyter-widgets/controls",
            "_model_module_version": "1.5.0",
            "_model_name": "HTMLModel",
            "_view_count": null,
            "_view_module": "@jupyter-widgets/controls",
            "_view_module_version": "1.5.0",
            "_view_name": "HTMLView",
            "description": "",
            "description_tooltip": null,
            "layout": "IPY_MODEL_1c740a39ab4c4c7b9409f6008ab60150",
            "placeholder": "​",
            "style": "IPY_MODEL_16d0e6babc8448979e013846ba8e3576",
            "value": "100%"
          }
        },
        "b58799dbd19241c096d32cb5aaea9fd9": {
          "model_module": "@jupyter-widgets/controls",
          "model_name": "FloatProgressModel",
          "model_module_version": "1.5.0",
          "state": {
            "_dom_classes": [],
            "_model_module": "@jupyter-widgets/controls",
            "_model_module_version": "1.5.0",
            "_model_name": "FloatProgressModel",
            "_view_count": null,
            "_view_module": "@jupyter-widgets/controls",
            "_view_module_version": "1.5.0",
            "_view_name": "ProgressView",
            "bar_style": "success",
            "description": "",
            "description_tooltip": null,
            "layout": "IPY_MODEL_2ed3886bfaa54b92bc5e54f288a52629",
            "max": 10000,
            "min": 0,
            "orientation": "horizontal",
            "style": "IPY_MODEL_9d3810d8f4a04022badcd13154f0d4bd",
            "value": 10000
          }
        },
        "ea639810d3e9463593c7f53ffee25f12": {
          "model_module": "@jupyter-widgets/controls",
          "model_name": "HTMLModel",
          "model_module_version": "1.5.0",
          "state": {
            "_dom_classes": [],
            "_model_module": "@jupyter-widgets/controls",
            "_model_module_version": "1.5.0",
            "_model_name": "HTMLModel",
            "_view_count": null,
            "_view_module": "@jupyter-widgets/controls",
            "_view_module_version": "1.5.0",
            "_view_name": "HTMLView",
            "description": "",
            "description_tooltip": null,
            "layout": "IPY_MODEL_e9a2fe928b714acfb277db9f06098266",
            "placeholder": "​",
            "style": "IPY_MODEL_4ceba158b0e546b48c38da18e80dc72d",
            "value": " 10000/10000 [00:08&lt;00:00, 1395.82it/s]"
          }
        },
        "0e458626e099437f806b60ea9538815c": {
          "model_module": "@jupyter-widgets/base",
          "model_name": "LayoutModel",
          "model_module_version": "1.2.0",
          "state": {
            "_model_module": "@jupyter-widgets/base",
            "_model_module_version": "1.2.0",
            "_model_name": "LayoutModel",
            "_view_count": null,
            "_view_module": "@jupyter-widgets/base",
            "_view_module_version": "1.2.0",
            "_view_name": "LayoutView",
            "align_content": null,
            "align_items": null,
            "align_self": null,
            "border": null,
            "bottom": null,
            "display": null,
            "flex": null,
            "flex_flow": null,
            "grid_area": null,
            "grid_auto_columns": null,
            "grid_auto_flow": null,
            "grid_auto_rows": null,
            "grid_column": null,
            "grid_gap": null,
            "grid_row": null,
            "grid_template_areas": null,
            "grid_template_columns": null,
            "grid_template_rows": null,
            "height": null,
            "justify_content": null,
            "justify_items": null,
            "left": null,
            "margin": null,
            "max_height": null,
            "max_width": null,
            "min_height": null,
            "min_width": null,
            "object_fit": null,
            "object_position": null,
            "order": null,
            "overflow": null,
            "overflow_x": null,
            "overflow_y": null,
            "padding": null,
            "right": null,
            "top": null,
            "visibility": null,
            "width": null
          }
        },
        "1c740a39ab4c4c7b9409f6008ab60150": {
          "model_module": "@jupyter-widgets/base",
          "model_name": "LayoutModel",
          "model_module_version": "1.2.0",
          "state": {
            "_model_module": "@jupyter-widgets/base",
            "_model_module_version": "1.2.0",
            "_model_name": "LayoutModel",
            "_view_count": null,
            "_view_module": "@jupyter-widgets/base",
            "_view_module_version": "1.2.0",
            "_view_name": "LayoutView",
            "align_content": null,
            "align_items": null,
            "align_self": null,
            "border": null,
            "bottom": null,
            "display": null,
            "flex": null,
            "flex_flow": null,
            "grid_area": null,
            "grid_auto_columns": null,
            "grid_auto_flow": null,
            "grid_auto_rows": null,
            "grid_column": null,
            "grid_gap": null,
            "grid_row": null,
            "grid_template_areas": null,
            "grid_template_columns": null,
            "grid_template_rows": null,
            "height": null,
            "justify_content": null,
            "justify_items": null,
            "left": null,
            "margin": null,
            "max_height": null,
            "max_width": null,
            "min_height": null,
            "min_width": null,
            "object_fit": null,
            "object_position": null,
            "order": null,
            "overflow": null,
            "overflow_x": null,
            "overflow_y": null,
            "padding": null,
            "right": null,
            "top": null,
            "visibility": null,
            "width": null
          }
        },
        "16d0e6babc8448979e013846ba8e3576": {
          "model_module": "@jupyter-widgets/controls",
          "model_name": "DescriptionStyleModel",
          "model_module_version": "1.5.0",
          "state": {
            "_model_module": "@jupyter-widgets/controls",
            "_model_module_version": "1.5.0",
            "_model_name": "DescriptionStyleModel",
            "_view_count": null,
            "_view_module": "@jupyter-widgets/base",
            "_view_module_version": "1.2.0",
            "_view_name": "StyleView",
            "description_width": ""
          }
        },
        "2ed3886bfaa54b92bc5e54f288a52629": {
          "model_module": "@jupyter-widgets/base",
          "model_name": "LayoutModel",
          "model_module_version": "1.2.0",
          "state": {
            "_model_module": "@jupyter-widgets/base",
            "_model_module_version": "1.2.0",
            "_model_name": "LayoutModel",
            "_view_count": null,
            "_view_module": "@jupyter-widgets/base",
            "_view_module_version": "1.2.0",
            "_view_name": "LayoutView",
            "align_content": null,
            "align_items": null,
            "align_self": null,
            "border": null,
            "bottom": null,
            "display": null,
            "flex": null,
            "flex_flow": null,
            "grid_area": null,
            "grid_auto_columns": null,
            "grid_auto_flow": null,
            "grid_auto_rows": null,
            "grid_column": null,
            "grid_gap": null,
            "grid_row": null,
            "grid_template_areas": null,
            "grid_template_columns": null,
            "grid_template_rows": null,
            "height": null,
            "justify_content": null,
            "justify_items": null,
            "left": null,
            "margin": null,
            "max_height": null,
            "max_width": null,
            "min_height": null,
            "min_width": null,
            "object_fit": null,
            "object_position": null,
            "order": null,
            "overflow": null,
            "overflow_x": null,
            "overflow_y": null,
            "padding": null,
            "right": null,
            "top": null,
            "visibility": null,
            "width": null
          }
        },
        "9d3810d8f4a04022badcd13154f0d4bd": {
          "model_module": "@jupyter-widgets/controls",
          "model_name": "ProgressStyleModel",
          "model_module_version": "1.5.0",
          "state": {
            "_model_module": "@jupyter-widgets/controls",
            "_model_module_version": "1.5.0",
            "_model_name": "ProgressStyleModel",
            "_view_count": null,
            "_view_module": "@jupyter-widgets/base",
            "_view_module_version": "1.2.0",
            "_view_name": "StyleView",
            "bar_color": null,
            "description_width": ""
          }
        },
        "e9a2fe928b714acfb277db9f06098266": {
          "model_module": "@jupyter-widgets/base",
          "model_name": "LayoutModel",
          "model_module_version": "1.2.0",
          "state": {
            "_model_module": "@jupyter-widgets/base",
            "_model_module_version": "1.2.0",
            "_model_name": "LayoutModel",
            "_view_count": null,
            "_view_module": "@jupyter-widgets/base",
            "_view_module_version": "1.2.0",
            "_view_name": "LayoutView",
            "align_content": null,
            "align_items": null,
            "align_self": null,
            "border": null,
            "bottom": null,
            "display": null,
            "flex": null,
            "flex_flow": null,
            "grid_area": null,
            "grid_auto_columns": null,
            "grid_auto_flow": null,
            "grid_auto_rows": null,
            "grid_column": null,
            "grid_gap": null,
            "grid_row": null,
            "grid_template_areas": null,
            "grid_template_columns": null,
            "grid_template_rows": null,
            "height": null,
            "justify_content": null,
            "justify_items": null,
            "left": null,
            "margin": null,
            "max_height": null,
            "max_width": null,
            "min_height": null,
            "min_width": null,
            "object_fit": null,
            "object_position": null,
            "order": null,
            "overflow": null,
            "overflow_x": null,
            "overflow_y": null,
            "padding": null,
            "right": null,
            "top": null,
            "visibility": null,
            "width": null
          }
        },
        "4ceba158b0e546b48c38da18e80dc72d": {
          "model_module": "@jupyter-widgets/controls",
          "model_name": "DescriptionStyleModel",
          "model_module_version": "1.5.0",
          "state": {
            "_model_module": "@jupyter-widgets/controls",
            "_model_module_version": "1.5.0",
            "_model_name": "DescriptionStyleModel",
            "_view_count": null,
            "_view_module": "@jupyter-widgets/base",
            "_view_module_version": "1.2.0",
            "_view_name": "StyleView",
            "description_width": ""
          }
        },
        "07325f3c2ce048a0aa4e34bb8f06c238": {
          "model_module": "@jupyter-widgets/controls",
          "model_name": "HBoxModel",
          "model_module_version": "1.5.0",
          "state": {
            "_dom_classes": [],
            "_model_module": "@jupyter-widgets/controls",
            "_model_module_version": "1.5.0",
            "_model_name": "HBoxModel",
            "_view_count": null,
            "_view_module": "@jupyter-widgets/controls",
            "_view_module_version": "1.5.0",
            "_view_name": "HBoxView",
            "box_style": "",
            "children": [
              "IPY_MODEL_56708fbb2e8346d69484b8bfab91b42a",
              "IPY_MODEL_16af74ea768a4e7fa3cdcaf6c3cc7770",
              "IPY_MODEL_2037b8d9de3646abaddc1e0c6a4cac51"
            ],
            "layout": "IPY_MODEL_0e44496d2f3249e1b8984552b7735aae"
          }
        },
        "56708fbb2e8346d69484b8bfab91b42a": {
          "model_module": "@jupyter-widgets/controls",
          "model_name": "HTMLModel",
          "model_module_version": "1.5.0",
          "state": {
            "_dom_classes": [],
            "_model_module": "@jupyter-widgets/controls",
            "_model_module_version": "1.5.0",
            "_model_name": "HTMLModel",
            "_view_count": null,
            "_view_module": "@jupyter-widgets/controls",
            "_view_module_version": "1.5.0",
            "_view_name": "HTMLView",
            "description": "",
            "description_tooltip": null,
            "layout": "IPY_MODEL_9fe53f1e827247a5b6a680eef68f4afd",
            "placeholder": "​",
            "style": "IPY_MODEL_b2605c3396624e3daae085b4578b4b0c",
            "value": "100%"
          }
        },
        "16af74ea768a4e7fa3cdcaf6c3cc7770": {
          "model_module": "@jupyter-widgets/controls",
          "model_name": "FloatProgressModel",
          "model_module_version": "1.5.0",
          "state": {
            "_dom_classes": [],
            "_model_module": "@jupyter-widgets/controls",
            "_model_module_version": "1.5.0",
            "_model_name": "FloatProgressModel",
            "_view_count": null,
            "_view_module": "@jupyter-widgets/controls",
            "_view_module_version": "1.5.0",
            "_view_name": "ProgressView",
            "bar_style": "success",
            "description": "",
            "description_tooltip": null,
            "layout": "IPY_MODEL_d23cbd5622914f6ca900d9763ef1b9c2",
            "max": 10000,
            "min": 0,
            "orientation": "horizontal",
            "style": "IPY_MODEL_ebfd816a5f2f403c87daf9fbbebb2ed8",
            "value": 10000
          }
        },
        "2037b8d9de3646abaddc1e0c6a4cac51": {
          "model_module": "@jupyter-widgets/controls",
          "model_name": "HTMLModel",
          "model_module_version": "1.5.0",
          "state": {
            "_dom_classes": [],
            "_model_module": "@jupyter-widgets/controls",
            "_model_module_version": "1.5.0",
            "_model_name": "HTMLModel",
            "_view_count": null,
            "_view_module": "@jupyter-widgets/controls",
            "_view_module_version": "1.5.0",
            "_view_name": "HTMLView",
            "description": "",
            "description_tooltip": null,
            "layout": "IPY_MODEL_4829821ccfeb41eb9bf0c43af1aaecf7",
            "placeholder": "​",
            "style": "IPY_MODEL_9153390d064e4a6c969c897960840ac8",
            "value": " 10000/10000 [00:08&lt;00:00, 1338.56it/s]"
          }
        },
        "0e44496d2f3249e1b8984552b7735aae": {
          "model_module": "@jupyter-widgets/base",
          "model_name": "LayoutModel",
          "model_module_version": "1.2.0",
          "state": {
            "_model_module": "@jupyter-widgets/base",
            "_model_module_version": "1.2.0",
            "_model_name": "LayoutModel",
            "_view_count": null,
            "_view_module": "@jupyter-widgets/base",
            "_view_module_version": "1.2.0",
            "_view_name": "LayoutView",
            "align_content": null,
            "align_items": null,
            "align_self": null,
            "border": null,
            "bottom": null,
            "display": null,
            "flex": null,
            "flex_flow": null,
            "grid_area": null,
            "grid_auto_columns": null,
            "grid_auto_flow": null,
            "grid_auto_rows": null,
            "grid_column": null,
            "grid_gap": null,
            "grid_row": null,
            "grid_template_areas": null,
            "grid_template_columns": null,
            "grid_template_rows": null,
            "height": null,
            "justify_content": null,
            "justify_items": null,
            "left": null,
            "margin": null,
            "max_height": null,
            "max_width": null,
            "min_height": null,
            "min_width": null,
            "object_fit": null,
            "object_position": null,
            "order": null,
            "overflow": null,
            "overflow_x": null,
            "overflow_y": null,
            "padding": null,
            "right": null,
            "top": null,
            "visibility": null,
            "width": null
          }
        },
        "9fe53f1e827247a5b6a680eef68f4afd": {
          "model_module": "@jupyter-widgets/base",
          "model_name": "LayoutModel",
          "model_module_version": "1.2.0",
          "state": {
            "_model_module": "@jupyter-widgets/base",
            "_model_module_version": "1.2.0",
            "_model_name": "LayoutModel",
            "_view_count": null,
            "_view_module": "@jupyter-widgets/base",
            "_view_module_version": "1.2.0",
            "_view_name": "LayoutView",
            "align_content": null,
            "align_items": null,
            "align_self": null,
            "border": null,
            "bottom": null,
            "display": null,
            "flex": null,
            "flex_flow": null,
            "grid_area": null,
            "grid_auto_columns": null,
            "grid_auto_flow": null,
            "grid_auto_rows": null,
            "grid_column": null,
            "grid_gap": null,
            "grid_row": null,
            "grid_template_areas": null,
            "grid_template_columns": null,
            "grid_template_rows": null,
            "height": null,
            "justify_content": null,
            "justify_items": null,
            "left": null,
            "margin": null,
            "max_height": null,
            "max_width": null,
            "min_height": null,
            "min_width": null,
            "object_fit": null,
            "object_position": null,
            "order": null,
            "overflow": null,
            "overflow_x": null,
            "overflow_y": null,
            "padding": null,
            "right": null,
            "top": null,
            "visibility": null,
            "width": null
          }
        },
        "b2605c3396624e3daae085b4578b4b0c": {
          "model_module": "@jupyter-widgets/controls",
          "model_name": "DescriptionStyleModel",
          "model_module_version": "1.5.0",
          "state": {
            "_model_module": "@jupyter-widgets/controls",
            "_model_module_version": "1.5.0",
            "_model_name": "DescriptionStyleModel",
            "_view_count": null,
            "_view_module": "@jupyter-widgets/base",
            "_view_module_version": "1.2.0",
            "_view_name": "StyleView",
            "description_width": ""
          }
        },
        "d23cbd5622914f6ca900d9763ef1b9c2": {
          "model_module": "@jupyter-widgets/base",
          "model_name": "LayoutModel",
          "model_module_version": "1.2.0",
          "state": {
            "_model_module": "@jupyter-widgets/base",
            "_model_module_version": "1.2.0",
            "_model_name": "LayoutModel",
            "_view_count": null,
            "_view_module": "@jupyter-widgets/base",
            "_view_module_version": "1.2.0",
            "_view_name": "LayoutView",
            "align_content": null,
            "align_items": null,
            "align_self": null,
            "border": null,
            "bottom": null,
            "display": null,
            "flex": null,
            "flex_flow": null,
            "grid_area": null,
            "grid_auto_columns": null,
            "grid_auto_flow": null,
            "grid_auto_rows": null,
            "grid_column": null,
            "grid_gap": null,
            "grid_row": null,
            "grid_template_areas": null,
            "grid_template_columns": null,
            "grid_template_rows": null,
            "height": null,
            "justify_content": null,
            "justify_items": null,
            "left": null,
            "margin": null,
            "max_height": null,
            "max_width": null,
            "min_height": null,
            "min_width": null,
            "object_fit": null,
            "object_position": null,
            "order": null,
            "overflow": null,
            "overflow_x": null,
            "overflow_y": null,
            "padding": null,
            "right": null,
            "top": null,
            "visibility": null,
            "width": null
          }
        },
        "ebfd816a5f2f403c87daf9fbbebb2ed8": {
          "model_module": "@jupyter-widgets/controls",
          "model_name": "ProgressStyleModel",
          "model_module_version": "1.5.0",
          "state": {
            "_model_module": "@jupyter-widgets/controls",
            "_model_module_version": "1.5.0",
            "_model_name": "ProgressStyleModel",
            "_view_count": null,
            "_view_module": "@jupyter-widgets/base",
            "_view_module_version": "1.2.0",
            "_view_name": "StyleView",
            "bar_color": null,
            "description_width": ""
          }
        },
        "4829821ccfeb41eb9bf0c43af1aaecf7": {
          "model_module": "@jupyter-widgets/base",
          "model_name": "LayoutModel",
          "model_module_version": "1.2.0",
          "state": {
            "_model_module": "@jupyter-widgets/base",
            "_model_module_version": "1.2.0",
            "_model_name": "LayoutModel",
            "_view_count": null,
            "_view_module": "@jupyter-widgets/base",
            "_view_module_version": "1.2.0",
            "_view_name": "LayoutView",
            "align_content": null,
            "align_items": null,
            "align_self": null,
            "border": null,
            "bottom": null,
            "display": null,
            "flex": null,
            "flex_flow": null,
            "grid_area": null,
            "grid_auto_columns": null,
            "grid_auto_flow": null,
            "grid_auto_rows": null,
            "grid_column": null,
            "grid_gap": null,
            "grid_row": null,
            "grid_template_areas": null,
            "grid_template_columns": null,
            "grid_template_rows": null,
            "height": null,
            "justify_content": null,
            "justify_items": null,
            "left": null,
            "margin": null,
            "max_height": null,
            "max_width": null,
            "min_height": null,
            "min_width": null,
            "object_fit": null,
            "object_position": null,
            "order": null,
            "overflow": null,
            "overflow_x": null,
            "overflow_y": null,
            "padding": null,
            "right": null,
            "top": null,
            "visibility": null,
            "width": null
          }
        },
        "9153390d064e4a6c969c897960840ac8": {
          "model_module": "@jupyter-widgets/controls",
          "model_name": "DescriptionStyleModel",
          "model_module_version": "1.5.0",
          "state": {
            "_model_module": "@jupyter-widgets/controls",
            "_model_module_version": "1.5.0",
            "_model_name": "DescriptionStyleModel",
            "_view_count": null,
            "_view_module": "@jupyter-widgets/base",
            "_view_module_version": "1.2.0",
            "_view_name": "StyleView",
            "description_width": ""
          }
        }
      }
    }
  },
  "cells": [
    {
      "cell_type": "markdown",
      "source": [
        "# Выполнил Лялин Илья Евгеньевич ББМО-02-24\n"
      ],
      "metadata": {
        "id": "Duuam9wAze9R"
      }
    },
    {
      "cell_type": "markdown",
      "source": [
        "\n",
        "# 1) Скачиваем репозиторий проекта lime_image"
      ],
      "metadata": {
        "id": "j7TEO0tczgqO"
      }
    },
    {
      "cell_type": "code",
      "execution_count": 1,
      "metadata": {
        "colab": {
          "base_uri": "https://localhost:8080/"
        },
        "id": "RmPywvOKzZx9",
        "outputId": "6007c4d8-1d7a-443a-b88b-ac24793464f9"
      },
      "outputs": [
        {
          "output_type": "stream",
          "name": "stdout",
          "text": [
            "fatal: destination path 'lime' already exists and is not an empty directory.\n"
          ]
        }
      ],
      "source": [
        "!git clone https://github.com/marcotcr/lime.git"
      ]
    },
    {
      "cell_type": "markdown",
      "source": [
        "# 2) Устанавливаем lime"
      ],
      "metadata": {
        "id": "YLZPqkgXzhvk"
      }
    },
    {
      "cell_type": "code",
      "source": [
        "!pip install lime"
      ],
      "metadata": {
        "colab": {
          "base_uri": "https://localhost:8080/"
        },
        "id": "QFVM-SDnzh_F",
        "outputId": "a81d9c42-5e45-4d3c-d329-a0a0adcc9d70"
      },
      "execution_count": 2,
      "outputs": [
        {
          "output_type": "stream",
          "name": "stdout",
          "text": [
            "Requirement already satisfied: lime in /usr/local/lib/python3.12/dist-packages (0.2.0.1)\n",
            "Requirement already satisfied: matplotlib in /usr/local/lib/python3.12/dist-packages (from lime) (3.10.0)\n",
            "Requirement already satisfied: numpy in /usr/local/lib/python3.12/dist-packages (from lime) (2.0.2)\n",
            "Requirement already satisfied: scipy in /usr/local/lib/python3.12/dist-packages (from lime) (1.16.2)\n",
            "Requirement already satisfied: tqdm in /usr/local/lib/python3.12/dist-packages (from lime) (4.67.1)\n",
            "Requirement already satisfied: scikit-learn>=0.18 in /usr/local/lib/python3.12/dist-packages (from lime) (1.6.1)\n",
            "Requirement already satisfied: scikit-image>=0.12 in /usr/local/lib/python3.12/dist-packages (from lime) (0.25.2)\n",
            "Requirement already satisfied: networkx>=3.0 in /usr/local/lib/python3.12/dist-packages (from scikit-image>=0.12->lime) (3.5)\n",
            "Requirement already satisfied: pillow>=10.1 in /usr/local/lib/python3.12/dist-packages (from scikit-image>=0.12->lime) (11.3.0)\n",
            "Requirement already satisfied: imageio!=2.35.0,>=2.33 in /usr/local/lib/python3.12/dist-packages (from scikit-image>=0.12->lime) (2.37.0)\n",
            "Requirement already satisfied: tifffile>=2022.8.12 in /usr/local/lib/python3.12/dist-packages (from scikit-image>=0.12->lime) (2025.9.9)\n",
            "Requirement already satisfied: packaging>=21 in /usr/local/lib/python3.12/dist-packages (from scikit-image>=0.12->lime) (25.0)\n",
            "Requirement already satisfied: lazy-loader>=0.4 in /usr/local/lib/python3.12/dist-packages (from scikit-image>=0.12->lime) (0.4)\n",
            "Requirement already satisfied: joblib>=1.2.0 in /usr/local/lib/python3.12/dist-packages (from scikit-learn>=0.18->lime) (1.5.2)\n",
            "Requirement already satisfied: threadpoolctl>=3.1.0 in /usr/local/lib/python3.12/dist-packages (from scikit-learn>=0.18->lime) (3.6.0)\n",
            "Requirement already satisfied: contourpy>=1.0.1 in /usr/local/lib/python3.12/dist-packages (from matplotlib->lime) (1.3.3)\n",
            "Requirement already satisfied: cycler>=0.10 in /usr/local/lib/python3.12/dist-packages (from matplotlib->lime) (0.12.1)\n",
            "Requirement already satisfied: fonttools>=4.22.0 in /usr/local/lib/python3.12/dist-packages (from matplotlib->lime) (4.60.0)\n",
            "Requirement already satisfied: kiwisolver>=1.3.1 in /usr/local/lib/python3.12/dist-packages (from matplotlib->lime) (1.4.9)\n",
            "Requirement already satisfied: pyparsing>=2.3.1 in /usr/local/lib/python3.12/dist-packages (from matplotlib->lime) (3.2.4)\n",
            "Requirement already satisfied: python-dateutil>=2.7 in /usr/local/lib/python3.12/dist-packages (from matplotlib->lime) (2.9.0.post0)\n",
            "Requirement already satisfied: six>=1.5 in /usr/local/lib/python3.12/dist-packages (from python-dateutil>=2.7->matplotlib->lime) (1.17.0)\n"
          ]
        }
      ]
    },
    {
      "cell_type": "markdown",
      "source": [
        "# 3) Установка необходимых библиотек и реалезация датасета MNIST"
      ],
      "metadata": {
        "id": "zGvCmVeOFQ_b"
      }
    },
    {
      "cell_type": "code",
      "source": [
        "# для работы с многомерными массивами и математическими операциями\n",
        "import numpy as np\n",
        "\n",
        "# для построения графиков и визуализации изображений\n",
        "import matplotlib.pyplot as plt\n",
        "\n",
        "# для работы с цветовыми пространствами из библиотеки scikit-image:\n",
        "# gray2rgb - преобразует изображение в оттенках серого в RGB-формат (добавляя каналы цвета)\n",
        "# rgb2gray - конвертирует RGB-изображение в оттенки серого (обратная операция)\n",
        "# label2rgb - преобразует изображение с метками (например, результат сегментации) в цветное RGB-изображение для наглядности\n",
        "from skimage.color import gray2rgb, rgb2gray, label2rgb"
      ],
      "metadata": {
        "id": "z1g0x_WPziLz"
      },
      "execution_count": 3,
      "outputs": []
    },
    {
      "cell_type": "code",
      "source": [
        "# для загрузки датасетов с платформы OpenML\n",
        "from sklearn.datasets import fetch_openml\n",
        "\n",
        "\n",
        "# 'mnist_784' - идентификатор датасета (784 = 28x28 пикселей)\n",
        "# Датасет содержит изображения рукописных цифр 0-9\n",
        "mnist = fetch_openml('mnist_784')\n",
        "\n",
        "# Преобразование данных MNIST в цветной формат для совместимости с LIME Image\n",
        "X_vec = np.stack([gray2rgb(iimg) for iimg in mnist.data.values.astype(np.uint8).reshape((-1, 28, 28))], 0).astype(np.uint8)\n",
        "# mnist.data.values - получение данных в виде массива numpy/pandas\n",
        "# .astype(np.uint8) - преобразование в 8-битный беззнаковый целый тип (0-255)\n",
        "# .reshape((-1, 28, 28)) - преобразование плоского массива 784px в 2D изображения 28x28\n",
        "# [gray2rgb(iimg) for iimg in ...] - преобразование каждого ЧБ изображения в RGB формат\n",
        "# np.stack(..., 0) - объединение всех изображений вдоль оси 0 (создание батча)\n",
        "# .astype(np.uint8) - финальное приведение типа данных\n",
        "\n",
        "# Извлечение меток (цифр от 0 до 9) и преобразование в целочисленный тип\n",
        "y_vec = mnist.target.astype(np.uint8)"
      ],
      "metadata": {
        "id": "0d62GF5o1rc-"
      },
      "execution_count": 4,
      "outputs": []
    },
    {
      "cell_type": "markdown",
      "source": [
        "# 4) Проверяем работу датасета MNIST, выводим цифру"
      ],
      "metadata": {
        "id": "_M8T2N97Fg0S"
      }
    },
    {
      "cell_type": "code",
      "source": [
        "#  для отображения графиков inline\n",
        "%matplotlib inline\n",
        "\n",
        "# Создание фигуры и осей для отображения графики:\n",
        "# plt.subplots(1,1) - создает сетку 1x1 (одно изображение)\n",
        "# fig - объект всей фигуры, ax1 - объект оси (subplot)\n",
        "fig, ax1 = plt.subplots(1,1)\n",
        "\n",
        "# Отображение первого изображения из набора данных X_vec:\n",
        "# X_vec[0] - первое изображение в массиве (цифра с индексом 0)\n",
        "# interpolation = 'none' - отключает интерполяцию, показывая пиксели четко без сглаживания\n",
        "# Это важно для MNIST, так как мы хотим видеть исходные пиксели\n",
        "ax1.imshow(X_vec[0], interpolation = 'none')\n",
        "\n",
        "# Установка заголовка для изображения, который показывает какая цифра изображена:\n",
        "# y_vec[0] - метка (цифра) соответствующая первому изображению\n",
        "# format(y_vec[0]) подставляет значение метки в строку заголовка\n",
        "ax1.set_title('Digit: {}'.format(y_vec[0]))"
      ],
      "metadata": {
        "colab": {
          "base_uri": "https://localhost:8080/",
          "height": 470
        },
        "id": "jHawApx62DdH",
        "outputId": "02ee5bc7-b25a-4f03-f74d-088dd0eb5f06"
      },
      "execution_count": 5,
      "outputs": [
        {
          "output_type": "execute_result",
          "data": {
            "text/plain": [
              "Text(0.5, 1.0, 'Digit: 5')"
            ]
          },
          "metadata": {},
          "execution_count": 5
        },
        {
          "output_type": "display_data",
          "data": {
            "text/plain": [
              "<Figure size 640x480 with 1 Axes>"
            ],
            "image/png": "[encoded data removed]"
          },
          "metadata": {}
        }
      ]
    },
    {
      "cell_type": "markdown",
      "source": [
        "# 5) Установка PIPLINE"
      ],
      "metadata": {
        "id": "mYuVkBAFziRm"
      }
    },
    {
      "cell_type": "code",
      "source": [
        "# для создания последовательности шагов обработки данных и классификации\n",
        "from sklearn.pipeline import Pipeline\n",
        "\n",
        "# алгоритм случайного леса для классификации\n",
        "from sklearn.ensemble import RandomForestClassifier\n",
        "\n",
        "# для нормализации данных (закомментирован, но может использоваться)\n",
        "from sklearn.preprocessing import Normalizer\n",
        "\n",
        "# Создание кастомного класса-обертки для преобразований в пайплайне\n",
        "class PipeStep(object):\n",
        "    \"\"\"\n",
        "    Оболочка для преобразования функций в конвейерные преобразования (без подгонки)\n",
        "    \"\"\"\n",
        "    def __init__(self, step_func):\n",
        "        # Сохранение функции преобразования как атрибута класса\n",
        "        self._step_func = step_func\n",
        "\n",
        "    # Метод fit не выполняет обучение, просто возвращает self (т.к. преобразования без обучения)\n",
        "    def fit(self, *args):\n",
        "        return self\n",
        "\n",
        "    # Метод transform применяет сохраненную функцию преобразования к данным\n",
        "    def transform(self, X):\n",
        "        return self._step_func(X)\n",
        "\n",
        "\n",
        "# Создание шага преобразования RGB изображений в оттенки серого\n",
        "# Использует rgb2gray для каждого изображения в списке\n",
        "makegray_step = PipeStep(lambda img_list: [rgb2gray(img) for img in img_list])\n",
        "\n",
        "# Создание шага \"выпрямления\" (flatten) изображений - преобразование 2D в 1D массив\n",
        "# ravel() превращает матрицу 28x28 в вектор из 784 элементов\n",
        "flatten_step = PipeStep(lambda img_list: [img.ravel() for img in img_list])\n",
        "\n",
        "# Создание пайплайна с последовательностью шагов обработки\n",
        "simple_rf_pipeline = Pipeline([\n",
        "    # Первый шаг: преобразование цветных RGB изображений в оттенки серого\n",
        "    ('Make Gray', makegray_step),\n",
        "\n",
        "    # Второй шаг: преобразование 2D изображений в 1D векторы\n",
        "    ('Flatten Image', flatten_step),\n",
        "\n",
        "    #('Normalize', Normalizer()),  # Нормализация данных\n",
        "    #('PCA', PCA(16)),             # Уменьшение размерности до 16 компонент\n",
        "\n",
        "    # Финальный шаг: классификатор случайный лес\n",
        "    ('RF', RandomForestClassifier())\n",
        "])"
      ],
      "metadata": {
        "id": "gPZB1UMDziXM"
      },
      "execution_count": 6,
      "outputs": []
    },
    {
      "cell_type": "markdown",
      "source": [
        "# 6) Создание обучающей и тестовой выборки"
      ],
      "metadata": {
        "id": "4C8dzyLkF3oZ"
      }
    },
    {
      "cell_type": "code",
      "source": [
        "from sklearn.model_selection import train_test_split\n",
        "\n",
        "X_train, X_test, y_train, y_test = train_test_split(X_vec, y_vec,\n",
        "                                                    train_size=0.55)\n",
        "# Параметры:\n",
        "# X_vec - массив с признаками (изображениями)\n",
        "# y_vec - массив с метками (цифрами)\n",
        "# train_size=0.55 - 55% данных идет в тренировочную выборку, 45% - в тестовую\n",
        "\n",
        "# Результат:\n",
        "# X_train - тренировочные изображения (55% от общего количества)\n",
        "# X_test - тестовые изображения (45% от общего количества)\n",
        "# y_train - метки для тренировочных изображений\n",
        "# y_test - метки для тестовых изображений"
      ],
      "metadata": {
        "id": "Tkx0quIMzih1"
      },
      "execution_count": 7,
      "outputs": []
    },
    {
      "cell_type": "markdown",
      "source": [
        "Исходный размер: ~70,000 изображений в MNIST\n",
        "\n",
        "Тренировочная выборка: 55% × 70,000 ≈ 38,500 изображений\n",
        "\n",
        "Тестовая выборка: 45% × 70,000 ≈ 31,500 изображений\n",
        "\n",
        "функция автоматически перемешивает данные перед разделением\n",
        "\n",
        "Стратификация: по умолчанию сохраняет распределение классов в обеих выборках"
      ],
      "metadata": {
        "id": "IUBEdBpXGJiM"
      }
    },
    {
      "cell_type": "markdown",
      "source": [
        "# 7) Обучение на тестовых данных"
      ],
      "metadata": {
        "id": "8q3Xo1IvGTpo"
      }
    },
    {
      "cell_type": "code",
      "source": [
        "simple_rf_pipeline.fit(X_train, y_train)"
      ],
      "metadata": {
        "colab": {
          "base_uri": "https://localhost:8080/",
          "height": 198
        },
        "id": "xbYeb1aMzitV",
        "outputId": "9655e300-dd1f-4f2e-ae4b-9a4b370af943"
      },
      "execution_count": 8,
      "outputs": [
        {
          "output_type": "execute_result",
          "data": {
            "text/plain": [
              "Pipeline(steps=[('Make Gray', <__main__.PipeStep object at 0x7f37af5e3e60>),\n",
              "                ('Flatten Image', <__main__.PipeStep object at 0x7f37af5b3c50>),\n",
              "                ('RF', RandomForestClassifier())])"
            ],
            "text/html": [
              "<style>#sk-container-id-1 {\n",
              "  /* Definition of color scheme common for light and dark mode */\n",
              "  --sklearn-color-text: #000;\n",
              "  --sklearn-color-text-muted: #666;\n",
              "  --sklearn-color-line: gray;\n",
              "  /* Definition of color scheme for unfitted estimators */\n",
              "  --sklearn-color-unfitted-level-0: #fff5e6;\n",
              "  --sklearn-color-unfitted-level-1: #f6e4d2;\n",
              "  --sklearn-color-unfitted-level-2: #ffe0b3;\n",
              "  --sklearn-color-unfitted-level-3: chocolate;\n",
              "  /* Definition of color scheme for fitted estimators */\n",
              "  --sklearn-color-fitted-level-0: #f0f8ff;\n",
              "  --sklearn-color-fitted-level-1: #d4ebff;\n",
              "  --sklearn-color-fitted-level-2: #b3dbfd;\n",
              "  --sklearn-color-fitted-level-3: cornflowerblue;\n",
              "\n",
              "  /* Specific color for light theme */\n",
              "  --sklearn-color-text-on-default-background: var(--sg-text-color, var(--theme-code-foreground, var(--jp-content-font-color1, black)));\n",
              "  --sklearn-color-background: var(--sg-background-color, var(--theme-background, var(--jp-layout-color0, white)));\n",
              "  --sklearn-color-border-box: var(--sg-text-color, var(--theme-code-foreground, var(--jp-content-font-color1, black)));\n",
              "  --sklearn-color-icon: #696969;\n",
              "\n",
              "  @media (prefers-color-scheme: dark) {\n",
              "    /* Redefinition of color scheme for dark theme */\n",
              "    --sklearn-color-text-on-default-background: var(--sg-text-color, var(--theme-code-foreground, var(--jp-content-font-color1, white)));\n",
              "    --sklearn-color-background: var(--sg-background-color, var(--theme-background, var(--jp-layout-color0, #111)));\n",
              "    --sklearn-color-border-box: var(--sg-text-color, var(--theme-code-foreground, var(--jp-content-font-color1, white)));\n",
              "    --sklearn-color-icon: #878787;\n",
              "  }\n",
              "}\n",
              "\n",
              "#sk-container-id-1 {\n",
              "  color: var(--sklearn-color-text);\n",
              "}\n",
              "\n",
              "#sk-container-id-1 pre {\n",
              "  padding: 0;\n",
              "}\n",
              "\n",
              "#sk-container-id-1 input.sk-hidden--visually {\n",
              "  border: 0;\n",
              "  clip: rect(1px 1px 1px 1px);\n",
              "  clip: rect(1px, 1px, 1px, 1px);\n",
              "  height: 1px;\n",
              "  margin: -1px;\n",
              "  overflow: hidden;\n",
              "  padding: 0;\n",
              "  position: absolute;\n",
              "  width: 1px;\n",
              "}\n",
              "\n",
              "#sk-container-id-1 div.sk-dashed-wrapped {\n",
              "  border: 1px dashed var(--sklearn-color-line);\n",
              "  margin: 0 0.4em 0.5em 0.4em;\n",
              "  box-sizing: border-box;\n",
              "  padding-bottom: 0.4em;\n",
              "  background-color: var(--sklearn-color-background);\n",
              "}\n",
              "\n",
              "#sk-container-id-1 div.sk-container {\n",
              "  /* jupyter's `normalize.less` sets `[hidden] { display: none; }`\n",
              "     but bootstrap.min.css set `[hidden] { display: none !important; }`\n",
              "     so we also need the `!important` here to be able to override the\n",
              "     default hidden behavior on the sphinx rendered scikit-learn.org.\n",
              "     See: https://github.com/scikit-learn/scikit-learn/issues/21755 */\n",
              "  display: inline-block !important;\n",
              "  position: relative;\n",
              "}\n",
              "\n",
              "#sk-container-id-1 div.sk-text-repr-fallback {\n",
              "  display: none;\n",
              "}\n",
              "\n",
              "div.sk-parallel-item,\n",
              "div.sk-serial,\n",
              "div.sk-item {\n",
              "  /* draw centered vertical line to link estimators */\n",
              "  background-image: linear-gradient(var(--sklearn-color-text-on-default-background), var(--sklearn-color-text-on-default-background));\n",
              "  background-size: 2px 100%;\n",
              "  background-repeat: no-repeat;\n",
              "  background-position: center center;\n",
              "}\n",
              "\n",
              "/* Parallel-specific style estimator block */\n",
              "\n",
              "#sk-container-id-1 div.sk-parallel-item::after {\n",
              "  content: \"\";\n",
              "  width: 100%;\n",
              "  border-bottom: 2px solid var(--sklearn-color-text-on-default-background);\n",
              "  flex-grow: 1;\n",
              "}\n",
              "\n",
              "#sk-container-id-1 div.sk-parallel {\n",
              "  display: flex;\n",
              "  align-items: stretch;\n",
              "  justify-content: center;\n",
              "  background-color: var(--sklearn-color-background);\n",
              "  position: relative;\n",
              "}\n",
              "\n",
              "#sk-container-id-1 div.sk-parallel-item {\n",
              "  display: flex;\n",
              "  flex-direction: column;\n",
              "}\n",
              "\n",
              "#sk-container-id-1 div.sk-parallel-item:first-child::after {\n",
              "  align-self: flex-end;\n",
              "  width: 50%;\n",
              "}\n",
              "\n",
              "#sk-container-id-1 div.sk-parallel-item:last-child::after {\n",
              "  align-self: flex-start;\n",
              "  width: 50%;\n",
              "}\n",
              "\n",
              "#sk-container-id-1 div.sk-parallel-item:only-child::after {\n",
              "  width: 0;\n",
              "}\n",
              "\n",
              "/* Serial-specific style estimator block */\n",
              "\n",
              "#sk-container-id-1 div.sk-serial {\n",
              "  display: flex;\n",
              "  flex-direction: column;\n",
              "  align-items: center;\n",
              "  background-color: var(--sklearn-color-background);\n",
              "  padding-right: 1em;\n",
              "  padding-left: 1em;\n",
              "}\n",
              "\n",
              "\n",
              "/* Toggleable style: style used for estimator/Pipeline/ColumnTransformer box that is\n",
              "clickable and can be expanded/collapsed.\n",
              "- Pipeline and ColumnTransformer use this feature and define the default style\n",
              "- Estimators will overwrite some part of the style using the `sk-estimator` class\n",
              "*/\n",
              "\n",
              "/* Pipeline and ColumnTransformer style (default) */\n",
              "\n",
              "#sk-container-id-1 div.sk-toggleable {\n",
              "  /* Default theme specific background. It is overwritten whether we have a\n",
              "  specific estimator or a Pipeline/ColumnTransformer */\n",
              "  background-color: var(--sklearn-color-background);\n",
              "}\n",
              "\n",
              "/* Toggleable label */\n",
              "#sk-container-id-1 label.sk-toggleable__label {\n",
              "  cursor: pointer;\n",
              "  display: flex;\n",
              "  width: 100%;\n",
              "  margin-bottom: 0;\n",
              "  padding: 0.5em;\n",
              "  box-sizing: border-box;\n",
              "  text-align: center;\n",
              "  align-items: start;\n",
              "  justify-content: space-between;\n",
              "  gap: 0.5em;\n",
              "}\n",
              "\n",
              "#sk-container-id-1 label.sk-toggleable__label .caption {\n",
              "  font-size: 0.6rem;\n",
              "  font-weight: lighter;\n",
              "  color: var(--sklearn-color-text-muted);\n",
              "}\n",
              "\n",
              "#sk-container-id-1 label.sk-toggleable__label-arrow:before {\n",
              "  /* Arrow on the left of the label */\n",
              "  content: \"▸\";\n",
              "  float: left;\n",
              "  margin-right: 0.25em;\n",
              "  color: var(--sklearn-color-icon);\n",
              "}\n",
              "\n",
              "#sk-container-id-1 label.sk-toggleable__label-arrow:hover:before {\n",
              "  color: var(--sklearn-color-text);\n",
              "}\n",
              "\n",
              "/* Toggleable content - dropdown */\n",
              "\n",
              "#sk-container-id-1 div.sk-toggleable__content {\n",
              "  max-height: 0;\n",
              "  max-width: 0;\n",
              "  overflow: hidden;\n",
              "  text-align: left;\n",
              "  /* unfitted */\n",
              "  background-color: var(--sklearn-color-unfitted-level-0);\n",
              "}\n",
              "\n",
              "#sk-container-id-1 div.sk-toggleable__content.fitted {\n",
              "  /* fitted */\n",
              "  background-color: var(--sklearn-color-fitted-level-0);\n",
              "}\n",
              "\n",
              "#sk-container-id-1 div.sk-toggleable__content pre {\n",
              "  margin: 0.2em;\n",
              "  border-radius: 0.25em;\n",
              "  color: var(--sklearn-color-text);\n",
              "  /* unfitted */\n",
              "  background-color: var(--sklearn-color-unfitted-level-0);\n",
              "}\n",
              "\n",
              "#sk-container-id-1 div.sk-toggleable__content.fitted pre {\n",
              "  /* unfitted */\n",
              "  background-color: var(--sklearn-color-fitted-level-0);\n",
              "}\n",
              "\n",
              "#sk-container-id-1 input.sk-toggleable__control:checked~div.sk-toggleable__content {\n",
              "  /* Expand drop-down */\n",
              "  max-height: 200px;\n",
              "  max-width: 100%;\n",
              "  overflow: auto;\n",
              "}\n",
              "\n",
              "#sk-container-id-1 input.sk-toggleable__control:checked~label.sk-toggleable__label-arrow:before {\n",
              "  content: \"▾\";\n",
              "}\n",
              "\n",
              "/* Pipeline/ColumnTransformer-specific style */\n",
              "\n",
              "#sk-container-id-1 div.sk-label input.sk-toggleable__control:checked~label.sk-toggleable__label {\n",
              "  color: var(--sklearn-color-text);\n",
              "  background-color: var(--sklearn-color-unfitted-level-2);\n",
              "}\n",
              "\n",
              "#sk-container-id-1 div.sk-label.fitted input.sk-toggleable__control:checked~label.sk-toggleable__label {\n",
              "  background-color: var(--sklearn-color-fitted-level-2);\n",
              "}\n",
              "\n",
              "/* Estimator-specific style */\n",
              "\n",
              "/* Colorize estimator box */\n",
              "#sk-container-id-1 div.sk-estimator input.sk-toggleable__control:checked~label.sk-toggleable__label {\n",
              "  /* unfitted */\n",
              "  background-color: var(--sklearn-color-unfitted-level-2);\n",
              "}\n",
              "\n",
              "#sk-container-id-1 div.sk-estimator.fitted input.sk-toggleable__control:checked~label.sk-toggleable__label {\n",
              "  /* fitted */\n",
              "  background-color: var(--sklearn-color-fitted-level-2);\n",
              "}\n",
              "\n",
              "#sk-container-id-1 div.sk-label label.sk-toggleable__label,\n",
              "#sk-container-id-1 div.sk-label label {\n",
              "  /* The background is the default theme color */\n",
              "  color: var(--sklearn-color-text-on-default-background);\n",
              "}\n",
              "\n",
              "/* On hover, darken the color of the background */\n",
              "#sk-container-id-1 div.sk-label:hover label.sk-toggleable__label {\n",
              "  color: var(--sklearn-color-text);\n",
              "  background-color: var(--sklearn-color-unfitted-level-2);\n",
              "}\n",
              "\n",
              "/* Label box, darken color on hover, fitted */\n",
              "#sk-container-id-1 div.sk-label.fitted:hover label.sk-toggleable__label.fitted {\n",
              "  color: var(--sklearn-color-text);\n",
              "  background-color: var(--sklearn-color-fitted-level-2);\n",
              "}\n",
              "\n",
              "/* Estimator label */\n",
              "\n",
              "#sk-container-id-1 div.sk-label label {\n",
              "  font-family: monospace;\n",
              "  font-weight: bold;\n",
              "  display: inline-block;\n",
              "  line-height: 1.2em;\n",
              "}\n",
              "\n",
              "#sk-container-id-1 div.sk-label-container {\n",
              "  text-align: center;\n",
              "}\n",
              "\n",
              "/* Estimator-specific */\n",
              "#sk-container-id-1 div.sk-estimator {\n",
              "  font-family: monospace;\n",
              "  border: 1px dotted var(--sklearn-color-border-box);\n",
              "  border-radius: 0.25em;\n",
              "  box-sizing: border-box;\n",
              "  margin-bottom: 0.5em;\n",
              "  /* unfitted */\n",
              "  background-color: var(--sklearn-color-unfitted-level-0);\n",
              "}\n",
              "\n",
              "#sk-container-id-1 div.sk-estimator.fitted {\n",
              "  /* fitted */\n",
              "  background-color: var(--sklearn-color-fitted-level-0);\n",
              "}\n",
              "\n",
              "/* on hover */\n",
              "#sk-container-id-1 div.sk-estimator:hover {\n",
              "  /* unfitted */\n",
              "  background-color: var(--sklearn-color-unfitted-level-2);\n",
              "}\n",
              "\n",
              "#sk-container-id-1 div.sk-estimator.fitted:hover {\n",
              "  /* fitted */\n",
              "  background-color: var(--sklearn-color-fitted-level-2);\n",
              "}\n",
              "\n",
              "/* Specification for estimator info (e.g. \"i\" and \"?\") */\n",
              "\n",
              "/* Common style for \"i\" and \"?\" */\n",
              "\n",
              ".sk-estimator-doc-link,\n",
              "a:link.sk-estimator-doc-link,\n",
              "a:visited.sk-estimator-doc-link {\n",
              "  float: right;\n",
              "  font-size: smaller;\n",
              "  line-height: 1em;\n",
              "  font-family: monospace;\n",
              "  background-color: var(--sklearn-color-background);\n",
              "  border-radius: 1em;\n",
              "  height: 1em;\n",
              "  width: 1em;\n",
              "  text-decoration: none !important;\n",
              "  margin-left: 0.5em;\n",
              "  text-align: center;\n",
              "  /* unfitted */\n",
              "  border: var(--sklearn-color-unfitted-level-1) 1pt solid;\n",
              "  color: var(--sklearn-color-unfitted-level-1);\n",
              "}\n",
              "\n",
              ".sk-estimator-doc-link.fitted,\n",
              "a:link.sk-estimator-doc-link.fitted,\n",
              "a:visited.sk-estimator-doc-link.fitted {\n",
              "  /* fitted */\n",
              "  border: var(--sklearn-color-fitted-level-1) 1pt solid;\n",
              "  color: var(--sklearn-color-fitted-level-1);\n",
              "}\n",
              "\n",
              "/* On hover */\n",
              "div.sk-estimator:hover .sk-estimator-doc-link:hover,\n",
              ".sk-estimator-doc-link:hover,\n",
              "div.sk-label-container:hover .sk-estimator-doc-link:hover,\n",
              ".sk-estimator-doc-link:hover {\n",
              "  /* unfitted */\n",
              "  background-color: var(--sklearn-color-unfitted-level-3);\n",
              "  color: var(--sklearn-color-background);\n",
              "  text-decoration: none;\n",
              "}\n",
              "\n",
              "div.sk-estimator.fitted:hover .sk-estimator-doc-link.fitted:hover,\n",
              ".sk-estimator-doc-link.fitted:hover,\n",
              "div.sk-label-container:hover .sk-estimator-doc-link.fitted:hover,\n",
              ".sk-estimator-doc-link.fitted:hover {\n",
              "  /* fitted */\n",
              "  background-color: var(--sklearn-color-fitted-level-3);\n",
              "  color: var(--sklearn-color-background);\n",
              "  text-decoration: none;\n",
              "}\n",
              "\n",
              "/* Span, style for the box shown on hovering the info icon */\n",
              ".sk-estimator-doc-link span {\n",
              "  display: none;\n",
              "  z-index: 9999;\n",
              "  position: relative;\n",
              "  font-weight: normal;\n",
              "  right: .2ex;\n",
              "  padding: .5ex;\n",
              "  margin: .5ex;\n",
              "  width: min-content;\n",
              "  min-width: 20ex;\n",
              "  max-width: 50ex;\n",
              "  color: var(--sklearn-color-text);\n",
              "  box-shadow: 2pt 2pt 4pt #999;\n",
              "  /* unfitted */\n",
              "  background: var(--sklearn-color-unfitted-level-0);\n",
              "  border: .5pt solid var(--sklearn-color-unfitted-level-3);\n",
              "}\n",
              "\n",
              ".sk-estimator-doc-link.fitted span {\n",
              "  /* fitted */\n",
              "  background: var(--sklearn-color-fitted-level-0);\n",
              "  border: var(--sklearn-color-fitted-level-3);\n",
              "}\n",
              "\n",
              ".sk-estimator-doc-link:hover span {\n",
              "  display: block;\n",
              "}\n",
              "\n",
              "/* \"?\"-specific style due to the `<a>` HTML tag */\n",
              "\n",
              "#sk-container-id-1 a.estimator_doc_link {\n",
              "  float: right;\n",
              "  font-size: 1rem;\n",
              "  line-height: 1em;\n",
              "  font-family: monospace;\n",
              "  background-color: var(--sklearn-color-background);\n",
              "  border-radius: 1rem;\n",
              "  height: 1rem;\n",
              "  width: 1rem;\n",
              "  text-decoration: none;\n",
              "  /* unfitted */\n",
              "  color: var(--sklearn-color-unfitted-level-1);\n",
              "  border: var(--sklearn-color-unfitted-level-1) 1pt solid;\n",
              "}\n",
              "\n",
              "#sk-container-id-1 a.estimator_doc_link.fitted {\n",
              "  /* fitted */\n",
              "  border: var(--sklearn-color-fitted-level-1) 1pt solid;\n",
              "  color: var(--sklearn-color-fitted-level-1);\n",
              "}\n",
              "\n",
              "/* On hover */\n",
              "#sk-container-id-1 a.estimator_doc_link:hover {\n",
              "  /* unfitted */\n",
              "  background-color: var(--sklearn-color-unfitted-level-3);\n",
              "  color: var(--sklearn-color-background);\n",
              "  text-decoration: none;\n",
              "}\n",
              "\n",
              "#sk-container-id-1 a.estimator_doc_link.fitted:hover {\n",
              "  /* fitted */\n",
              "  background-color: var(--sklearn-color-fitted-level-3);\n",
              "}\n",
              "</style><div id=\"sk-container-id-1\" class=\"sk-top-container\"><div class=\"sk-text-repr-fallback\"><pre>Pipeline(steps=[(&#x27;Make Gray&#x27;, &lt;__main__.PipeStep object at 0x7f37af5e3e60&gt;),\n",
              "                (&#x27;Flatten Image&#x27;, &lt;__main__.PipeStep object at 0x7f37af5b3c50&gt;),\n",
              "                (&#x27;RF&#x27;, RandomForestClassifier())])</pre><b>In a Jupyter environment, please rerun this cell to show the HTML representation or trust the notebook. <br />On GitHub, the HTML representation is unable to render, please try loading this page with nbviewer.org.</b></div><div class=\"sk-container\" hidden><div class=\"sk-item sk-dashed-wrapped\"><div class=\"sk-label-container\"><div class=\"sk-label fitted sk-toggleable\"><input class=\"sk-toggleable__control sk-hidden--visually\" id=\"sk-estimator-id-1\" type=\"checkbox\" ><label for=\"sk-estimator-id-1\" class=\"sk-toggleable__label fitted sk-toggleable__label-arrow\"><div><div>Pipeline</div></div><div><a class=\"sk-estimator-doc-link fitted\" rel=\"noreferrer\" target=\"_blank\" href=\"https://scikit-learn.org/1.6/modules/generated/sklearn.pipeline.Pipeline.html\">?<span>Documentation for Pipeline</span></a><span class=\"sk-estimator-doc-link fitted\">i<span>Fitted</span></span></div></label><div class=\"sk-toggleable__content fitted\"><pre>Pipeline(steps=[(&#x27;Make Gray&#x27;, &lt;__main__.PipeStep object at 0x7f37af5e3e60&gt;),\n",
              "                (&#x27;Flatten Image&#x27;, &lt;__main__.PipeStep object at 0x7f37af5b3c50&gt;),\n",
              "                (&#x27;RF&#x27;, RandomForestClassifier())])</pre></div> </div></div><div class=\"sk-serial\"><div class=\"sk-item\"><div class=\"sk-estimator fitted sk-toggleable\"><input class=\"sk-toggleable__control sk-hidden--visually\" id=\"sk-estimator-id-2\" type=\"checkbox\" ><label for=\"sk-estimator-id-2\" class=\"sk-toggleable__label fitted sk-toggleable__label-arrow\"><div><div>PipeStep</div></div></label><div class=\"sk-toggleable__content fitted\"><pre>&lt;__main__.PipeStep object at 0x7f37af5e3e60&gt;</pre></div> </div></div><div class=\"sk-item\"><div class=\"sk-estimator fitted sk-toggleable\"><input class=\"sk-toggleable__control sk-hidden--visually\" id=\"sk-estimator-id-3\" type=\"checkbox\" ><label for=\"sk-estimator-id-3\" class=\"sk-toggleable__label fitted sk-toggleable__label-arrow\"><div><div>PipeStep</div></div></label><div class=\"sk-toggleable__content fitted\"><pre>&lt;__main__.PipeStep object at 0x7f37af5b3c50&gt;</pre></div> </div></div><div class=\"sk-item\"><div class=\"sk-estimator fitted sk-toggleable\"><input class=\"sk-toggleable__control sk-hidden--visually\" id=\"sk-estimator-id-4\" type=\"checkbox\" ><label for=\"sk-estimator-id-4\" class=\"sk-toggleable__label fitted sk-toggleable__label-arrow\"><div><div>RandomForestClassifier</div></div><div><a class=\"sk-estimator-doc-link fitted\" rel=\"noreferrer\" target=\"_blank\" href=\"https://scikit-learn.org/1.6/modules/generated/sklearn.ensemble.RandomForestClassifier.html\">?<span>Documentation for RandomForestClassifier</span></a></div></label><div class=\"sk-toggleable__content fitted\"><pre>RandomForestClassifier()</pre></div> </div></div></div></div></div></div>"
            ]
          },
          "metadata": {},
          "execution_count": 8
        }
      ]
    },
    {
      "cell_type": "markdown",
      "source": [
        "\n",
        "\n",
        "\n",
        "'Make Gray': Каждое RGB изображение в X_train преобразуется в оттенки серого с\n",
        "\n",
        "\n",
        "помощью rgb2gray\n",
        "\n",
        "'Flatten Image': Каждое 2D изображение 28×28 \"выпрямляется\" в 1D вектор из 784 элементов с помощью ravel()\n",
        "\n",
        "'RF': Обучение классификатора Random Forest на преобразованных данных\n",
        "\n",
        "\n",
        "\n",
        "\n",
        "\n",
        "Пайплайн принимает исходные RGB изображения размером (n_samples, 28, 28, 3)\n",
        "\n",
        "После преобразований данные поступают в Random Forest как векторы размером (n_samples, 784)\n",
        "\n",
        "Random Forest обучается предсказывать цифры (0-9) по этим векторам\n",
        "\n",
        "\n",
        "\n",
        "\n",
        "\n",
        "Пайплайн сохраняет обученную модель со всеми параметрами\n",
        "\n",
        "Теперь модель готова для предсказаний на новых данных с помощью simple_rf_pipeline.predict()"
      ],
      "metadata": {
        "id": "bc1bPdY4GbRR"
      }
    },
    {
      "cell_type": "markdown",
      "source": [
        "# 8) Создание \"Объяснялки\", то на какие области цифры модель обращает внимание во время предсказания"
      ],
      "metadata": {
        "id": "-QKggeCHG8u0"
      }
    },
    {
      "cell_type": "code",
      "source": [
        "# LIME используется для объяснения предсказаний моделей машинного обучения\n",
        "from lime import lime_image\n",
        "\n",
        "# Эта функция используется для сегментации изображений на суперпиксели\n",
        "from lime.wrappers.scikit_image import SegmentationAlgorithm\n",
        "\n",
        "# Создание объясняющего объекта (explainer) для работы с изображениями\n",
        "# LimeImageExplainer генерирует объяснения для классификации изображений\n",
        "# verbose=False отключает подробный вывод в процессе работы\n",
        "explainer = lime_image.LimeImageExplainer(verbose=False)\n",
        "\n",
        "# Создание алгоритма сегментации для разбиения изображения на значимые области\n",
        "segmenter = SegmentationAlgorithm('quickshift', kernel_size=1, max_dist=200, ratio=0.2)\n",
        "# Параметры:\n",
        "# 'quickshift' - алгоритм сегментации, который группирует пиксели по схожести\n",
        "# kernel_size=1 - размер ядра для вычисления схожести пикселей\n",
        "# max_dist=200 - максимальное расстояние между пикселями для объединения в сегмент\n",
        "# ratio=0.2 - баланс между цветовым и пространственным сходством"
      ],
      "metadata": {
        "id": "Nq8DrqqG5TUl"
      },
      "execution_count": 9,
      "outputs": []
    },
    {
      "cell_type": "markdown",
      "source": [
        "LIME создает локальные объяснения: показывает, какие части изображения наиболее важны для предсказания модели\n",
        "\n",
        "Сегментация разбивает изображение на суперпиксели (однородные области), которые LIME будет \"включать/выключать\" при генерации объяснений\n",
        "\n",
        "Quickshift эффективно находит границы объектов на изображении"
      ],
      "metadata": {
        "id": "smOWgX7AHN8v"
      }
    },
    {
      "cell_type": "markdown",
      "source": [
        "# 9) Генерация объяснения предсказания модели для конкретного изображения цифры из теста"
      ],
      "metadata": {
        "id": "NOIZTK62G8ID"
      }
    },
    {
      "cell_type": "code",
      "source": [
        "# покажет время выполнения всего процесса объяснения\n",
        "%%time\n",
        "\n",
        "# Генерация объяснения для конкретного тестового изображения\n",
        "explanation = explainer.explain_instance(\n",
        "    X_test[0],                          # Первое изображение из тестовой выборки\n",
        "    classifier_fn = simple_rf_pipeline.predict_proba,  # Функция предсказания вероятностей модели\n",
        "    top_labels=10,                      # Рассматривать все 10 возможных классов (цифры 0-9)\n",
        "    hide_color=0,                       # Цвет для \"скрытия\" сегментов (0 = черный)\n",
        "    num_samples=10000,                  # Количество сэмплов для генерации (больше → точнее, но медленнее)\n",
        "    segmentation_fn=segmenter           # Алгоритм сегментации из предыдущего шага\n",
        ")"
      ],
      "metadata": {
        "colab": {
          "base_uri": "https://localhost:8080/",
          "height": 86,
          "referenced_widgets": [
            "3fcf13d0074e4af797eedb5c3a2916c7",
            "2f60e4ff6a63451998de1a4d3f70245f",
            "b58799dbd19241c096d32cb5aaea9fd9",
            "ea639810d3e9463593c7f53ffee25f12",
            "0e458626e099437f806b60ea9538815c",
            "1c740a39ab4c4c7b9409f6008ab60150",
            "16d0e6babc8448979e013846ba8e3576",
            "2ed3886bfaa54b92bc5e54f288a52629",
            "9d3810d8f4a04022badcd13154f0d4bd",
            "e9a2fe928b714acfb277db9f06098266",
            "4ceba158b0e546b48c38da18e80dc72d"
          ]
        },
        "id": "TT7_qklU5TPh",
        "outputId": "f6c04d74-1654-4a85-cc08-142d498ad835"
      },
      "execution_count": 10,
      "outputs": [
        {
          "output_type": "display_data",
          "data": {
            "text/plain": [
              "  0%|          | 0/10000 [00:00<?, ?it/s]"
            ],
            "application/vnd.jupyter.widget-view+json": {
              "version_major": 2,
              "version_minor": 0,
              "model_id": "3fcf13d0074e4af797eedb5c3a2916c7"
            }
          },
          "metadata": {}
        },
        {
          "output_type": "stream",
          "name": "stdout",
          "text": [
            "CPU times: user 7.94 s, sys: 38.2 ms, total: 7.98 s\n",
            "Wall time: 8.11 s\n"
          ]
        }
      ]
    },
    {
      "cell_type": "markdown",
      "source": [
        "Берется изображение X_test[0] - первая цифра из тестового набора\n",
        "\n",
        "Сегментация: изображение разбивается на суперпиксели с помощью quickshift\n",
        "\n",
        "*Суперпиксели - это группа соседних пикселей, объединенных по схожести характеристик.*\n",
        "\n",
        "\n",
        "Генерация сэмплов: создается 10,000 модифицированных версий изображения, где случайные сегменты скрываются (закрашиваются черным)\n",
        "\n",
        "Предсказание: для каждого сэмпла вызывается predict_proba чтобы получить вероятности всех цифр\n",
        "\n",
        "Обучение объясняющей модели: LIME строит простую модель, которая объясняет, какие сегменты важны для предсказания\n",
        "\n",
        "Параметры:\n",
        "num_samples=10000 - большое число для точности (обычно хватает 1000-5000)\n",
        "\n",
        "hide_color=0 - скрытые области становятся черными\n",
        "\n",
        "top_labels=10 - анализировать все 10 цифр"
      ],
      "metadata": {
        "id": "jWbdXLHzIIfP"
      }
    },
    {
      "cell_type": "markdown",
      "source": [
        "# 10) Визуализация результатов LIME-объяснения, показывая какие области изображения влияют на предсказание модели"
      ],
      "metadata": {
        "id": "UV1sQ_31IXAo"
      }
    },
    {
      "cell_type": "code",
      "source": [
        "# Получение изображения и маски для визуализации положительных (подтверждающих) регионов\n",
        "# y_test.iloc[0] - истинная метка первого тестового изображения\n",
        "# positive_only=True - показывать только области, поддерживающие предсказание\n",
        "# num_features=10 - ограничить количество показываемых признаков до 10 самых важных\n",
        "# hide_rest=False - не скрывать остальные части изображения\n",
        "# min_weight=0.01 - минимальный вес значимости признака для отображения\n",
        "temp, mask = explanation.get_image_and_mask(y_test.iloc[0], positive_only=True, num_features=10, hide_rest=False, min_weight=0.01)\n",
        "\n",
        "fig, (ax1, ax2) = plt.subplots(1, 2, figsize=(8, 4))\n",
        "\n",
        "# Визуализация маски на изображении с помощью цветового кодирования\n",
        "# label2rgb(mask, temp, bg_label=0) - преобразует маску в цветное наложение на изображение\n",
        "# interpolation='nearest' - отключает сглаживание для четкого отображения пикселей\n",
        "ax1.imshow(label2rgb(mask, temp, bg_label=0), interpolation='nearest')\n",
        "\n",
        "# Установка заголовка для первого subplot с указанием цифры\n",
        "ax1.set_title('Positive Regions for {}'.format(y_test.iloc[0]))\n",
        "\n",
        "# Получение изображения и маски для визуализации как положительных, так и отрицательных регионов\n",
        "# positive_only=False - показывать как поддерживающие, так и противоречащие области\n",
        "temp, mask = explanation.get_image_and_mask(y_test.iloc[0], positive_only=False, num_features=10, hide_rest=False, min_weight=0.01)\n",
        "\n",
        "# Визуализация полной маски (положительные и отрицательные регионы)\n",
        "# 3-mask - инвертирование маски для цветового кодирования (обычно зеленый=положительный, красный=отрицательный)\n",
        "ax2.imshow(label2rgb(3 - mask, temp, bg_label=0), interpolation='nearest')\n",
        "\n",
        "# Установка заголовка для второго subplot\n",
        "ax2.set_title('Positive/Negative Regions for {}'.format(y_test.iloc[0]))"
      ],
      "metadata": {
        "colab": {
          "base_uri": "https://localhost:8080/",
          "height": 382
        },
        "id": "A9vJFi9-5TDn",
        "outputId": "c6da058a-1c09-4726-919f-ae9abbd18b86"
      },
      "execution_count": 11,
      "outputs": [
        {
          "output_type": "execute_result",
          "data": {
            "text/plain": [
              "Text(0.5, 1.0, 'Positive/Negative Regions for 6')"
            ]
          },
          "metadata": {},
          "execution_count": 11
        },
        {
          "output_type": "display_data",
          "data": {
            "text/plain": [
              "<Figure size 800x400 with 2 Axes>"
            ],
            "image/png": "[encoded data removed]"
          },
          "metadata": {}
        }
      ]
    },
    {
      "cell_type": "markdown",
      "source": [
        "Слева: только важные для распознавания области\n",
        "\n",
        "Справа: полная картина - что помогает, а что мешает распознаванию"
      ],
      "metadata": {
        "id": "p0GX-hoAJTzM"
      }
    },
    {
      "cell_type": "markdown",
      "source": [
        "# 11) Сравнение какие области модель ассоциирует с каждой цифрой и какая цифра на самом деле"
      ],
      "metadata": {
        "id": "iKPUk3OeJXQt"
      }
    },
    {
      "cell_type": "code",
      "source": [
        "fig, m_axs = plt.subplots(2, 5, figsize=(12, 6))\n",
        "\n",
        "# Итерация по всем subplots с помощью enumerate\n",
        "# m_axs.flatten() - преобразует 2D массив осей в 1D для последовательного обхода\n",
        "# i - номер цифры (от 0 до 9), c_ax - текущая ось для отрисовки\n",
        "for i, c_ax in enumerate(m_axs.flatten()):\n",
        "\n",
        "    # Получение изображения и маски для текущей цифры i\n",
        "    # positive_only=True - показывать только области, поддерживающие цифру i\n",
        "    # num_features=1000 - включить много признаков (практически все сегменты)\n",
        "    # min_weight=0.01 - минимальный порог значимости\n",
        "    temp, mask = explanation.get_image_and_mask(i, positive_only=True, num_features=1000, hide_rest=False, min_weight=0.01)\n",
        "\n",
        "    # Отображение маски на исходном изображении X_test[0]\n",
        "    # label2rgb(mask, X_test[0], bg_label=0) - наложение цветной маски на оригинальное изображение\n",
        "    c_ax.imshow(label2rgb(mask, X_test[0], bg_label=0), interpolation='nearest')\n",
        "\n",
        "    # Установка заголовка с информацией:\n",
        "    # i - для какой цифры показаны положительные области\n",
        "    # y_test.iloc[0] - какая цифра на самом деле\n",
        "    c_ax.set_title('Positive for {}\\nActual {}'.format(i, y_test.iloc[0]))\n",
        "\n",
        "    # Отключение осей для лучшей визуализации (убирает координатные оси)\n",
        "    c_ax.axis('off')"
      ],
      "metadata": {
        "colab": {
          "base_uri": "https://localhost:8080/",
          "height": 492
        },
        "id": "xUDtAjbL5rCz",
        "outputId": "ee60a836-9d7f-4f81-961e-3aa19ae160e7"
      },
      "execution_count": 12,
      "outputs": [
        {
          "output_type": "display_data",
          "data": {
            "text/plain": [
              "<Figure size 1200x600 with 10 Axes>"
            ],
            "image/png": "[encoded data removed]"
          },
          "metadata": {}
        }
      ]
    },
    {
      "cell_type": "markdown",
      "source": [
        "# 12) Получаем индекс в котором модель ошиблась, для дальнейшего анализа"
      ],
      "metadata": {
        "id": "qySxNxPoKYB-"
      }
    },
    {
      "cell_type": "code",
      "source": [
        "# Получение предсказаний пайплайна для всей тестовой выборки\n",
        "# simple_rf_pipeline.predict(X_test) возвращает массив предсказанных цифр для всех X_test\n",
        "pipe_pred_test = simple_rf_pipeline.predict(X_test)\n",
        "\n",
        "# Нахождение случайного индекса ошибочного предсказания:\n",
        "# np.where(pipe_pred_test != y_test) - находит индексы, где предсказание не совпало с истиной\n",
        "# [0] - извлекает массив индексов (np.where возвращает кортеж)\n",
        "# np.random.choice() - случайным образом выбирает один индекс из ошибочных\n",
        "wrong_idx = np.random.choice(np.where(pipe_pred_test != y_test)[0])\n",
        "\n",
        "# Вывод информации о выбранной ошибке:\n",
        "# wrong_idx - индекс ошибочного примера\n",
        "# y_test[wrong_idx] - истинная метка (какая цифра на самом деле)\n",
        "# pipe_pred_test[wrong_idx] - что предсказала модель\n",
        "pipe_pred_test = simple_rf_pipeline.predict(X_test)\n",
        "wrong_idx = np.random.choice(np.where(pipe_pred_test != y_test.values)[0])\n",
        "\n",
        "# Используем iloc для доступа по позиции\n",
        "print('Using #{} where the label was {} and the pipeline predicted {}'.format(\n",
        "    wrong_idx, y_test.iloc[wrong_idx], pipe_pred_test[wrong_idx]))"
      ],
      "metadata": {
        "colab": {
          "base_uri": "https://localhost:8080/"
        },
        "id": "AQ2clPNv5rA7",
        "outputId": "0cc47261-f32a-4b85-b621-dec9a7ad0904"
      },
      "execution_count": 28,
      "outputs": [
        {
          "output_type": "stream",
          "name": "stdout",
          "text": [
            "Using #1504 where the label was 6 and the pipeline predicted 0\n"
          ]
        }
      ]
    },
    {
      "cell_type": "markdown",
      "source": [
        "Сначала получаем все предсказания модели на тестовых данных\n",
        "\n",
        "Находим все случаи, где модель ошиблась (предсказание ≠ истина)\n",
        "\n",
        "Случайно выбираем одну ошибку для анализа\n",
        "\n",
        "Выводим информацию об этой ошибке\n"
      ],
      "metadata": {
        "id": "wjOmP-I7Kfm4"
      }
    },
    {
      "cell_type": "markdown",
      "source": [
        "# 13) Анализируем ошибочный индекс и понимаем, почему она ошиблась"
      ],
      "metadata": {
        "id": "l5DYtAwpKp9E"
      }
    },
    {
      "cell_type": "code",
      "source": [
        "%%time\n",
        "\n",
        "# Генерация LIME-объяснения для случая, где модель ошиблась\n",
        "explanation = explainer.explain_instance(\n",
        "    X_test[wrong_idx],                  # Изображение, на котором модель ошиблась\n",
        "    classifier_fn = simple_rf_pipeline.predict_proba,  # Функция предсказания вероятностей\n",
        "    top_labels=10,                      # Анализировать все 10 классов (цифры 0-9)\n",
        "    hide_color=0,                       # Черный цвет для скрытия сегментов\n",
        "    num_samples=10000,                  # 10,000 сэмплов для точного объяснения\n",
        "    segmentation_fn=segmenter           # Алгоритм сегментации на суперпиксели\n",
        ")"
      ],
      "metadata": {
        "colab": {
          "base_uri": "https://localhost:8080/",
          "height": 86,
          "referenced_widgets": [
            "07325f3c2ce048a0aa4e34bb8f06c238",
            "56708fbb2e8346d69484b8bfab91b42a",
            "16af74ea768a4e7fa3cdcaf6c3cc7770",
            "2037b8d9de3646abaddc1e0c6a4cac51",
            "0e44496d2f3249e1b8984552b7735aae",
            "9fe53f1e827247a5b6a680eef68f4afd",
            "b2605c3396624e3daae085b4578b4b0c",
            "d23cbd5622914f6ca900d9763ef1b9c2",
            "ebfd816a5f2f403c87daf9fbbebb2ed8",
            "4829821ccfeb41eb9bf0c43af1aaecf7",
            "9153390d064e4a6c969c897960840ac8"
          ]
        },
        "id": "Mcdl0lG75q-v",
        "outputId": "0e366391-d4e7-4598-dae4-c41a2e5e019d"
      },
      "execution_count": 29,
      "outputs": [
        {
          "output_type": "display_data",
          "data": {
            "text/plain": [
              "  0%|          | 0/10000 [00:00<?, ?it/s]"
            ],
            "application/vnd.jupyter.widget-view+json": {
              "version_major": 2,
              "version_minor": 0,
              "model_id": "07325f3c2ce048a0aa4e34bb8f06c238"
            }
          },
          "metadata": {}
        },
        {
          "output_type": "stream",
          "name": "stdout",
          "text": [
            "CPU times: user 8.19 s, sys: 51.1 ms, total: 8.24 s\n",
            "Wall time: 8.4 s\n"
          ]
        }
      ]
    },
    {
      "cell_type": "markdown",
      "source": [
        "# 14) Визуализация LIME-объяснения для ошибочного предсказания модели"
      ],
      "metadata": {
        "id": "YDt9R7nwLzJV"
      }
    },
    {
      "cell_type": "code",
      "source": [
        "fig, m_axs = plt.subplots(2, 5, figsize=(12, 6))\n",
        "\n",
        "# Организация цикла по всем subplots с получением индекса и объекта оси\n",
        "# enumerate(m_axs.flatten()) - преобразует 2D массив осей в 1D и нумерует их (i от 0 до 9)\n",
        "# i - текущая цифра (0-9), c_ax - текущая ось для отрисовки\n",
        "for i, c_ax in enumerate(m_axs.flatten()):\n",
        "\n",
        "    # Получение изображения и маски для текущей цифры i из объяснения\n",
        "    # i - класс цифры, для которого получаем маску\n",
        "    # positive_only=True - показывать только области, поддерживающие данную цифру\n",
        "    # num_features=10 - ограничение до 10 самых важных признаков\n",
        "    # hide_rest=False - показывать все изображение, а не только выделенные области\n",
        "    # min_weight=0.01 - минимальный вес значимости для отображения\n",
        "    temp, mask = explanation.get_image_and_mask(i, positive_only=True, num_features=10, hide_rest=False, min_weight=0.01)\n",
        "\n",
        "    # Отображение маски на изображении с цветовым кодированием\n",
        "    # label2rgb(mask, temp, bg_label=0) - наложение цветной маски на изображение\n",
        "    # interpolation='nearest' - отключение сглаживания для четкого отображения пикселей\n",
        "    c_ax.imshow(label2rgb(mask, temp, bg_label=0), interpolation='nearest')\n",
        "\n",
        "    # Установка заголовка для текущего subplot\n",
        "    # i - цифра, для которой показаны положительные области\n",
        "    # y_test.iloc[wrong_idx] - истинная метка ошибочного изображения\n",
        "    c_ax.set_title('Positive for {}\\nActual {}'.format(i, y_test.iloc[wrong_idx]))\n",
        "\n",
        "    # Отключение координатных осей для лучшей визуализации изображения\n",
        "    c_ax.axis('off')"
      ],
      "metadata": {
        "colab": {
          "base_uri": "https://localhost:8080/",
          "height": 492
        },
        "id": "iazVdY-25q7V",
        "outputId": "c86a7f85-a41d-4254-d3c1-c3d8e49b083f"
      },
      "execution_count": 30,
      "outputs": [
        {
          "output_type": "display_data",
          "data": {
            "text/plain": [
              "<Figure size 1200x600 with 10 Axes>"
            ],
            "image/png": "[encoded data removed]"
          },
          "metadata": {}
        }
      ]
    }
  ]
}