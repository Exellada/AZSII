{
  "nbformat": 4,
  "nbformat_minor": 0,
  "metadata": {
    "colab": {
      "provenance": []
    },
    "kernelspec": {
      "name": "python3",
      "display_name": "Python 3"
    },
    "language_info": {
      "name": "python"
    }
  },
  "cells": [
    {
      "cell_type": "markdown",
      "source": [
        "## Выполнил Лялин И.Е. ББМО-02-24"
      ],
      "metadata": {
        "id": "Y1yOY7KOF4w7"
      }
    },
    {
      "cell_type": "markdown",
      "source": [
        "# 1) Загрузить обученную модель и данные MNIST\n"
      ],
      "metadata": {
        "id": "2boNt4QKF_W-"
      }
    },
    {
      "cell_type": "code",
      "execution_count": 7,
      "metadata": {
        "colab": {
          "base_uri": "https://localhost:8080/"
        },
        "id": "di3IjEOnF0Ms",
        "outputId": "e7e7bc2f-f3b1-4d44-cfcd-c5c5c710df26"
      },
      "outputs": [
        {
          "output_type": "stream",
          "name": "stderr",
          "text": [
            "WARNING:absl:Compiled the loaded model, but the compiled metrics have yet to be built. `model.compile_metrics` will be empty until you train or evaluate the model.\n"
          ]
        },
        {
          "output_type": "stream",
          "name": "stdout",
          "text": [
            "\u001b[1m313/313\u001b[0m \u001b[32m━━━━━━━━━━━━━━━━━━━━\u001b[0m\u001b[37m\u001b[0m \u001b[1m1s\u001b[0m 2ms/step - accuracy: 0.9715 - loss: 0.0940\n",
            "Test accuracy on clean images: 0.9760000109672546\n"
          ]
        }
      ],
      "source": [
        "\n",
        "import tensorflow as tf  # Основной фреймворк для работы с нейронными сетями\n",
        "from tensorflow.keras.datasets import mnist  # Загрузка датасета MNIST\n",
        "from tensorflow.keras.utils import to_categorical  # Утилита для преобразования меток в one-hot формат\n",
        "\n",
        "(_, _), (test_images, test_labels) = mnist.load_data()  # Загружаем только тестовую выборку\n",
        "\n",
        "test_images = test_images / 255.0  # Делим каждый пиксель на 255 для улучшения стабильности обучения и работы модели\n",
        "\n",
        "test_labels = to_categorical(test_labels, num_classes=10)  # num_classes=10 указывает на 10 классов цифр\n",
        "\n",
        "model = tf.keras.models.load_model('pr1_model.h5')  # Модель загружается вместе с архитектурой и весами\n",
        "\n",
        "# Оценка точности модели на нормализованных тестовых данных\n",
        "test_loss, test_acc = model.evaluate(test_images, test_labels)  # Метод evaluate возвращает loss и accuracy\n",
        "\n",
        "\n",
        "print(f'Test accuracy on clean images: {test_acc}')"
      ]
    },
    {
      "cell_type": "markdown",
      "source": [
        "# 2) Реализация атаки FGSM для генерации противоречивых примеров\n"
      ],
      "metadata": {
        "id": "_PWwgeaRGZU5"
      }
    },
    {
      "cell_type": "code",
      "source": [
        "import numpy as np\n",
        "\n",
        "# Функция для реализации FGSM атаки (Fast Gradient Sign Method)\n",
        "def fgsm_attack(image, epsilon, gradient):\n",
        "\n",
        "  # Создание противоречивого примера: добавляем к исходному изображению шум в направлении знака градиента\n",
        "  perturbed_image = image + epsilon * np.sign(gradient)\n",
        "\n",
        "  # Обеспечение корректного диапазона значений пикселей (между 0 и 1) после добавления шума\n",
        "  perturbed_image = np.clip(perturbed_image, 0, 1)\n",
        "\n",
        "  return perturbed_image\n",
        "\n",
        "# Функция для генерации одного противоречивого примера\n",
        "def generate_adversarial_example(model, image, label, epsilon):\n",
        "    # Преобразование изображения в тензор TensorFlow и добавление размерностей батча и канала\n",
        "    image = tf.convert_to_tensor(image.reshape((1, 28, 28, 1)))\n",
        "\n",
        "    # Проверка формата метки: если one-hot, преобразуем в числовой формат\n",
        "    if len(label.shape) > 1 and label.shape[1] > 1:\n",
        "        label = np.argmax(label)\n",
        "    # Преобразование метки в тензор TensorFlow\n",
        "    label = tf.convert_to_tensor(label)\n",
        "\n",
        "    # Использование GradientTape для автоматического вычисления градиентов\n",
        "    with tf.GradientTape() as tape:\n",
        "        # Отслеживание операций с входным изображением\n",
        "        tape.watch(image)\n",
        "        # Получение предсказания модели для текущего изображения\n",
        "        prediction = model(image)\n",
        "        # Вычисление значения функции потерь между предсказанием и истинной меткой\n",
        "        loss = tf.keras.losses.categorical_crossentropy(label[None], prediction)\n",
        "\n",
        "    # Вычисление градиента функции потерь по отношению к входному изображению\n",
        "    gradient = tape.gradient(loss, image)\n",
        "\n",
        "    # Применение FGSM-атаки к изображению с заданным коэффициентом epsilon\n",
        "    adversarial_image = fgsm_attack(image.numpy(), epsilon, gradient.numpy())\n",
        "\n",
        "    # Возвращение изображения в исходную форму (28, 28, 1) без размерности батча\n",
        "    return np.reshape(adversarial_image, (28, 28, 1))\n",
        "\n",
        "# Установка коэффициента мощности атаки (чем больше epsilon, тем сильнее искажения)\n",
        "epsilon = 0.1  # Величина шума\n",
        "\n",
        "# Генерация противоречивого примера для первого изображения из тестового набора\n",
        "adversarial_example = generate_adversarial_example(model, test_images[0], test_labels[0], epsilon)\n",
        "\n",
        "# Импорт библиотеки для визуализации результатов\n",
        "import matplotlib.pyplot as plt\n",
        "\n",
        "\n",
        "plt.figure()\n",
        "\n",
        "\n",
        "plt.subplot(1, 2, 1)\n",
        "plt.title(\"Оригинальное изображение\")\n",
        "plt.imshow(test_images[0], cmap=\"gray\")\n",
        "\n",
        "plt.subplot(1, 2, 2)\n",
        "plt.title(\"Противоречивое изображение\")\n",
        "# Преобразование формы изображения для отображения (убираем размерность канала)\n",
        "plt.imshow(adversarial_example.reshape(28, 28), cmap=\"gray\")\n",
        "\n",
        "plt.show()"
      ],
      "metadata": {
        "colab": {
          "base_uri": "https://localhost:8080/",
          "height": 308
        },
        "id": "2cLP6Z4kGSz0",
        "outputId": "4441fa14-0bfd-4e2b-a41b-0111dad75457"
      },
      "execution_count": 8,
      "outputs": [
        {
          "output_type": "display_data",
          "data": {
            "text/plain": [
              "<Figure size 640x480 with 2 Axes>"
            ],
            "image/png": "[encoded data removed]"
          },
          "metadata": {}
        }
      ]
    },
    {
      "cell_type": "markdown",
      "source": [
        "# 3)Оценка модели на противоречивых примерах\n"
      ],
      "metadata": {
        "id": "2XlQkDGZGmQM"
      }
    },
    {
      "cell_type": "code",
      "source": [
        "# Функция для генерации набора противоречивых примеров на основе всего датасета\n",
        "def generate_adversarial_dataset(model, images, labels, epsilon):\n",
        "    # Создание пустого списка для хранения противоречивых изображений\n",
        "    adversarial_images = []\n",
        "\n",
        "    # Итерация по всем изображениям в датасете\n",
        "    for i in range(len(images)):\n",
        "        # Генерация одного противоречивого примера для i-го изображения\n",
        "        adv_image = generate_adversarial_example(model, images[i], labels[i], epsilon)\n",
        "        # Изменение формы изображения (28, 28, 1) -> (28, 28) и добавление в список\n",
        "        adversarial_images.append(adv_image.reshape(28, 28))\n",
        "\n",
        "    # Преобразование списка в numpy array для удобства обработки\n",
        "    adversarial_images = np.array(adversarial_images)\n",
        "\n",
        "    # Вывод формы полученного массива для проверки корректности\n",
        "    print(\"Shape of adversarial_images:\", adversarial_images.shape)\n",
        "\n",
        "    return adversarial_images\n",
        "\n",
        "# Генерация набора противоречивых примеров для всего тестового датасета\n",
        "adversarial_images = generate_adversarial_dataset(model, test_images, test_labels, epsilon)\n",
        "\n",
        "# Оценка производительности модели на сгенерированных противоречивых примерах\n",
        "# Метод evaluate возвращает значение функции потерь и точности\n",
        "adversarial_loss, adversarial_acc = model.evaluate(adversarial_images, test_labels)\n",
        "\n",
        "# Вывод точности модели на противоречивых примерах\n",
        "print(f'Accuracy on a small subset of adversarial examples: {adversarial_acc}')"
      ],
      "metadata": {
        "colab": {
          "base_uri": "https://localhost:8080/"
        },
        "collapsed": true,
        "id": "ax4MooJbGlkf",
        "outputId": "8b452ee1-7470-4b32-e6e3-4ad45b08c7f2"
      },
      "execution_count": 10,
      "outputs": [
        {
          "output_type": "stream",
          "name": "stdout",
          "text": [
            "Shape of adversarial_images: (10000, 28, 28)\n",
            "\u001b[1m313/313\u001b[0m \u001b[32m━━━━━━━━━━━━━━━━━━━━\u001b[0m\u001b[37m\u001b[0m \u001b[1m1s\u001b[0m 4ms/step - accuracy: 0.0879 - loss: 6.8038\n",
            "Accuracy on a small subset of adversarial examples: 0.11680000275373459\n"
          ]
        }
      ]
    },
    {
      "cell_type": "markdown",
      "source": [
        "# Вывод: Точность на обычных примерах составляет 97,6%, на противоречивых — 11,68%. Из этого следует, что модель уязвима к атакующим примерам, она не справляется с задачей распознавания при небольших целенаправленных искажениях."
      ],
      "metadata": {
        "id": "xFqxAmXpI7Md"
      }
    }
  ]
}