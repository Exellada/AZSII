{
  "nbformat": 4,
  "nbformat_minor": 0,
  "metadata": {
    "colab": {
      "provenance": [],
      "gpuType": "T4"
    },
    "kernelspec": {
      "name": "python3",
      "display_name": "Python 3"
    },
    "language_info": {
      "name": "python"
    },
    "accelerator": "GPU"
  },
  "cells": [
    {
      "cell_type": "markdown",
      "source": [
        "# Выполнил Лялин И.Е. ББМО-02-24"
      ],
      "metadata": {
        "id": "NKQLnAGZamfB"
      }
    },
    {
      "cell_type": "markdown",
      "source": [
        "1) Загрузка обученной модели и данных MNIS, и проверка её на точность"
      ],
      "metadata": {
        "id": "wwDyUIPParY4"
      }
    },
    {
      "cell_type": "markdown",
      "source": [
        " Загружаем предварительно обученную модель для распознавания рукописных цифр и проверяет ее точность на тестовом наборе данных MNIST.\n",
        "\n"
      ],
      "metadata": {
        "id": "jpBmSCUqjGhW"
      }
    },
    {
      "cell_type": "code",
      "source": [
        "# Импорт необходимых библиотек и модулей\n",
        "import tensorflow as tf  # Основная библиотека для работы с нейронными сетями\n",
        "from tensorflow.keras.datasets import mnist  # Загрузка набора данных MNIST\n",
        "from tensorflow.keras.utils import to_categorical  # Для преобразования меток в one-hot формат\n",
        "\n",
        "# Загрузка тестовых данных MNIST\n",
        "# Функция load_data() возвращает два кортежа: (train_images, train_labels), (test_images, test_labels)\n",
        "# Здесь мы используем символ подчеркивания _ для игнорирования ненужных тренировочных данных\n",
        "(_, _), (test_images, test_labels) = mnist.load_data()\n",
        "\n",
        "# Нормализация данных: преобразование значений пикселей из диапазона [0, 255] в [0, 1]\n",
        "# Это улучшает сходимость и стабильность обучения нейронной сети\n",
        "test_images = test_images / 255.0\n",
        "\n",
        "# Преобразование меток в формат one-hot encoding\n",
        "# Например, цифра 3 превращается в [0, 0, 0, 1, 0, 0, 0, 0, 0, 0]\n",
        "# num_classes=10 указывает, что у нас 10 классов (цифры от 0 до 9)\n",
        "test_labels = to_categorical(test_labels, num_classes=10)\n",
        "\n",
        "# Загрузка предварительно обученной модели из файла\n",
        "# 'pr2_model.h5' - файл в формате HDF5, содержащий архитектуру и веса модели\n",
        "model = tf.keras.models.load_model('pr2_model.h5')\n",
        "\n",
        "# Проверка точности модели на обычных (не модифицированных) данных\n",
        "# evaluate() возвращает значение функции потерь и метрики точности\n",
        "test_loss, test_acc = model.evaluate(test_images, test_labels)\n",
        "\n",
        "# Вывод точности модели в удобочитаемом формате\n",
        "# f-строка позволяет вставлять значения переменных непосредственно в текст\n",
        "print(f'Test accuracy on clean images: {test_acc}')"
      ],
      "metadata": {
        "colab": {
          "base_uri": "https://localhost:8080/"
        },
        "id": "Kd63v75eU585",
        "outputId": "323f2676-7c77-450b-ddcc-09ed4d7634b5"
      },
      "execution_count": 15,
      "outputs": [
        {
          "output_type": "stream",
          "name": "stderr",
          "text": [
            "WARNING:absl:Compiled the loaded model, but the compiled metrics have yet to be built. `model.compile_metrics` will be empty until you train or evaluate the model.\n"
          ]
        },
        {
          "output_type": "stream",
          "name": "stdout",
          "text": [
            "\u001b[1m313/313\u001b[0m \u001b[32m━━━━━━━━━━━━━━━━━━━━\u001b[0m\u001b[37m\u001b[0m \u001b[1m1s\u001b[0m 3ms/step - accuracy: 0.9715 - loss: 0.0940\n",
            "Test accuracy on clean images: 0.9760000109672546\n"
          ]
        }
      ]
    },
    {
      "cell_type": "markdown",
      "source": [
        "2) Импорт необходимых библиотек"
      ],
      "metadata": {
        "id": "N9bgIXfsa4d-"
      }
    },
    {
      "cell_type": "code",
      "source": [
        "# Установка библиотеки foolbox - мощного инструмента для атак на нейронные сети (adversarial attacks)\n",
        "!pip install foolbox\n",
        "\n",
        "# Импорт установленной библиотеки foolbox\n",
        "import foolbox as fb\n",
        "\n",
        "# Импорт библиотеки numpy для работы с многомерными массивами и математическими операциями\n",
        "import numpy as np\n",
        "\n",
        "# Импорт библиотеки matplotlib.pyplot для визуализации и построения графиков\n",
        "import matplotlib.pyplot as plt"
      ],
      "metadata": {
        "colab": {
          "base_uri": "https://localhost:8080/"
        },
        "id": "fXKUZ0siU-U5",
        "outputId": "54d580ff-df04-4fe8-a246-35054519cf04"
      },
      "execution_count": 16,
      "outputs": [
        {
          "output_type": "stream",
          "name": "stdout",
          "text": [
            "Requirement already satisfied: foolbox in /usr/local/lib/python3.12/dist-packages (3.3.4)\n",
            "Requirement already satisfied: numpy in /usr/local/lib/python3.12/dist-packages (from foolbox) (2.0.2)\n",
            "Requirement already satisfied: scipy in /usr/local/lib/python3.12/dist-packages (from foolbox) (1.16.1)\n",
            "Requirement already satisfied: setuptools in /usr/local/lib/python3.12/dist-packages (from foolbox) (75.2.0)\n",
            "Requirement already satisfied: eagerpy>=0.30.0 in /usr/local/lib/python3.12/dist-packages (from foolbox) (0.30.0)\n",
            "Requirement already satisfied: GitPython>=3.0.7 in /usr/local/lib/python3.12/dist-packages (from foolbox) (3.1.45)\n",
            "Requirement already satisfied: typing-extensions>=3.7.4.1 in /usr/local/lib/python3.12/dist-packages (from foolbox) (4.15.0)\n",
            "Requirement already satisfied: requests>=2.24.0 in /usr/local/lib/python3.12/dist-packages (from foolbox) (2.32.4)\n",
            "Requirement already satisfied: gitdb<5,>=4.0.1 in /usr/local/lib/python3.12/dist-packages (from GitPython>=3.0.7->foolbox) (4.0.12)\n",
            "Requirement already satisfied: charset_normalizer<4,>=2 in /usr/local/lib/python3.12/dist-packages (from requests>=2.24.0->foolbox) (3.4.3)\n",
            "Requirement already satisfied: idna<4,>=2.5 in /usr/local/lib/python3.12/dist-packages (from requests>=2.24.0->foolbox) (3.10)\n",
            "Requirement already satisfied: urllib3<3,>=1.21.1 in /usr/local/lib/python3.12/dist-packages (from requests>=2.24.0->foolbox) (2.5.0)\n",
            "Requirement already satisfied: certifi>=2017.4.17 in /usr/local/lib/python3.12/dist-packages (from requests>=2.24.0->foolbox) (2025.8.3)\n",
            "Requirement already satisfied: smmap<6,>=3.0.1 in /usr/local/lib/python3.12/dist-packages (from gitdb<5,>=4.0.1->GitPython>=3.0.7->foolbox) (5.0.2)\n"
          ]
        }
      ]
    },
    {
      "cell_type": "markdown",
      "source": [
        "3) Выполнение атаки Carlini-Wagner"
      ],
      "metadata": {
        "id": "Of8JDevua7Z2"
      }
    },
    {
      "cell_type": "code",
      "source": [
        "# Инициализация Foolbox модели на основе нашей TensorFlow модели\n",
        "# bounds=(0, 1) указывает диапазон значений пикселей (после нормализации)\n",
        "fmodel = fb.TensorFlowModel(model, bounds=(0, 1))\n",
        "\n",
        "# Выбор конкретного изображения для атаки (третье изображение из тестового набора)\n",
        "# [None, ...] добавляет размерность батча (преобразует из (28,28) в (1,28,28))\n",
        "image = tf.convert_to_tensor(test_images[2], dtype=tf.float32)[None, ...]\n",
        "\n",
        "# Получение истинной метки для первого изображения (используется test_labels[0])\n",
        "# np.argmax() преобразует one-hot encoding обратно в числовую метку\n",
        "label = np.argmax(test_labels[0])\n",
        "\n",
        "# Преобразование метки в тензор TensorFlow с правильным типом данных\n",
        "label_tensor = tf.convert_to_tensor(label, dtype=tf.int64)\n",
        "\n",
        "# Создание атаки Carlini-Wagner (мощная и эффективная L2-атака)\n",
        "# steps=3 - количество итераций оптимизации (меньше = быстрее, но менее точно)\n",
        "attack = fb.attacks.L2CarliniWagnerAttack(steps=3)\n",
        "\n",
        "# Проверка доступности GPU для ускорения вычислений\n",
        "tf.config.list_physical_devices('GPU')\n",
        "\n",
        "# Выполнение атаки: создание adversarial example\n",
        "# epsilons=0.1 - максимально допустимое отклонение от оригинала (в L2-норме)\n",
        "adversarial_image = attack(fmodel, image, label_tensor[None], epsilons=0.1)\n",
        "\n",
        "# Вывод результатов - создание визуального сравнения\n",
        "plt.figure(figsize=(10, 5))  # Создание фигуры размером 10x5 дюймов\n",
        "\n",
        "\n",
        "plt.subplot(1, 2, 1)  # Создание подграфика 1x2, позиция 1\n",
        "plt.title(\"Оригинальное изображение\")\n",
        "plt.imshow(image[0].numpy(), cmap=\"gray\")  # Отображение изображения в grayscale\n",
        "plt.axis('off')  # Отключение осей\n",
        "\n",
        "plt.subplot(1, 2, 2)  # Создание подграфика 1x2, позиция 2\n",
        "plt.title(\"Противоречивое изображение (CW Attack)\")\n",
        "# adversarial_image[0][0] - извлечение конкретного adversarial example\n",
        "plt.imshow(adversarial_image[0][0].numpy(), cmap=\"gray\")\n",
        "plt.axis('off')  # Отключение осей\n",
        "\n",
        "plt.show()"
      ],
      "metadata": {
        "colab": {
          "base_uri": "https://localhost:8080/",
          "height": 411
        },
        "id": "vJbHxvibVKZZ",
        "outputId": "496bb4c4-593d-4522-d01b-b7c34ecf852b"
      },
      "execution_count": 24,
      "outputs": [
        {
          "output_type": "display_data",
          "data": {
            "text/plain": [
              "<Figure size 1000x500 with 2 Axes>"
            ],
            "image/png": "[encoded data removed]"
          },
          "metadata": {}
        }
      ]
    },
    {
      "cell_type": "markdown",
      "source": [
        "4) Оценка модели на противоречивых примерах"
      ],
      "metadata": {
        "id": "PMLHqwpUbAOu"
      }
    },
    {
      "cell_type": "markdown",
      "source": [
        "\n",
        "len(test_images) // 10 - обрабатываем только 10% данных (600 вместо 6000) для экономии времени\n",
        "\n",
        "attack(fmodel, image, label[None], epsilons=0.1) - возвращает три значения:\n",
        "\n",
        "advs - adversarial examples\n",
        "\n",
        "_ - отброшенные clipped adversarials (игнорируем)\n",
        "\n",
        "success - флаги успешности атаки\n",
        "\n",
        "test_labels[:1000] - берем первые 1000 меток, так как мы создали 1000 adversarial examples"
      ],
      "metadata": {
        "id": "YHOYFhhSjV_O"
      }
    },
    {
      "cell_type": "code",
      "source": [
        "adversarial_images = []  # Создание пустого списка для хранения adversarial examples\n",
        "\n",
        "# Обработка изображений в цикле\n",
        "for i in range(len(test_images) // 10):  # Ограничиваем выборку в 10 раз для ускорения выполнения\n",
        "    # Подготовка изображения: преобразование в тензор и добавление размерности батча\n",
        "    image = tf.convert_to_tensor(test_images[i], dtype=tf.float32)[None, ...]\n",
        "\n",
        "    # Получение истинной метки (преобразование из one-hot в числовой формат)\n",
        "    label = np.argmax(test_labels[i])\n",
        "\n",
        "    # Преобразование метки в тензор TensorFlow\n",
        "    label = tf.convert_to_tensor(label, dtype=tf.int64)\n",
        "\n",
        "    # Атака на изображение: генерация adversarial example\n",
        "    # attack() возвращает кортеж: (adversarial_images, clipped_adversarials, success_flags)\n",
        "    advs, _, success = attack(fmodel, image, label[None], epsilons=0.1)\n",
        "\n",
        "    # Добавление полученного adversarial example в список\n",
        "    adversarial_images.append(advs)\n",
        "\n",
        "# Конвертация списка в массив с правильной формой\n",
        "# tf.concat объединяет все тензоры вдоль axis=0 (по батчу)\n",
        "adversarial_images = tf.concat(adversarial_images, axis=0)\n",
        "\n",
        "# Убедитесь, что test_labels имеют соответствующее количество меток\n",
        "# Оцениваем модель на adversarial examples (первые 1000 меток соответствуют 1000 изображений)\n",
        "adversarial_loss, adversarial_acc = model.evaluate(adversarial_images, test_labels[:1000])\n",
        "\n",
        "print(f'Accuracy on adversarial examples (CW attack): {adversarial_acc}')"
      ],
      "metadata": {
        "colab": {
          "base_uri": "https://localhost:8080/"
        },
        "id": "mz-17lMXVZNh",
        "outputId": "119395bd-e2bf-43b3-92ce-6329557db8eb"
      },
      "execution_count": 11,
      "outputs": [
        {
          "output_type": "stream",
          "name": "stdout",
          "text": [
            "\u001b[1m32/32\u001b[0m \u001b[32m━━━━━━━━━━━━━━━━━━━━\u001b[0m\u001b[37m\u001b[0m \u001b[1m1s\u001b[0m 20ms/step - accuracy: 0.0879 - loss: 2.4017\n",
            "Accuracy on adversarial examples (CW attack): 0.0820000022649765\n"
          ]
        }
      ]
    },
    {
      "cell_type": "markdown",
      "source": [
        "# Вывод: Атака CW оказалось крайне эффективной, т.к. точность модели снизилась до 8.2%"
      ],
      "metadata": {
        "id": "H2r2BNlJaWWg"
      }
    }
  ]
}